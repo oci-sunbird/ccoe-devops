{
 "cells": [
  {
   "cell_type": "code",
   "execution_count": 1,
   "id": "dc3d2384",
   "metadata": {
    "pycharm": {
     "name": "#%%\n"
    }
   },
   "outputs": [],
   "source": [
    "import requests\n",
    "import random\n",
    "import json\n",
    "import base64\n",
    "from IPython.display import display, SVG\n",
    "from urllib3.exceptions import InsecureRequestWarning"
   ]
  },
  {
   "cell_type": "code",
   "execution_count": 2,
   "id": "f3912238",
   "metadata": {
    "pycharm": {
     "name": "#%%\n"
    }
   },
   "outputs": [],
   "source": [
    "baseUrl = \"https://demo.sunbirdrc.app.oci/registry\"\n",
    "apibaseUrl = \"https://demo.sunbirdrc.app.oci/registry/api/v1/\"\n",
    "keycloakUrl = \"https://demo.sunbirdrc.app.oci\"\n",
    "keycloak_url = \"https://demo.sunbirdrc.app.oci\""
   ]
  },
  {
   "attachments": {},
   "cell_type": "markdown",
   "id": "bfb635b0",
   "metadata": {},
   "source": [
    "#### Registry Health Check"
   ]
  },
  {
   "cell_type": "code",
   "execution_count": 5,
   "id": "f75bef51",
   "metadata": {},
   "outputs": [
    {
     "name": "stdout",
     "output_type": "stream",
     "text": [
      "{\n",
      "    \"id\": \"sunbird-rc.registry.health\",\n",
      "    \"ver\": \"1.0\",\n",
      "    \"ets\": 1710301479409,\n",
      "    \"params\": {\n",
      "        \"resmsgid\": \"\",\n",
      "        \"msgid\": \"2abd8343-e890-4579-9915-c67fdc7f59fa\",\n",
      "        \"err\": \"\",\n",
      "        \"status\": \"SUCCESSFUL\",\n",
      "        \"errmsg\": \"\"\n",
      "    },\n",
      "    \"responseCode\": \"OK\",\n",
      "    \"result\": {\n",
      "        \"name\": \"sunbirdrc-registry-api\",\n",
      "        \"healthy\": false,\n",
      "        \"checks\": [\n",
      "            {\n",
      "                \"name\": \"DID_SERVICE\",\n",
      "                \"healthy\": false,\n",
      "                \"err\": \"\",\n",
      "                \"errmsg\": \"\"\n",
      "            },\n",
      "            {\n",
      "                \"name\": \"sunbird.keycloak.service\",\n",
      "                \"healthy\": true,\n",
      "                \"err\": \"\",\n",
      "                \"errmsg\": \"\"\n",
      "            }\n",
      "        ]\n",
      "    }\n",
      "}\n"
     ]
    }
   ],
   "source": [
    "headers = {\n",
    "  'Content-Type': 'application/json'\n",
    "}\n",
    "# Suppress the warnings from urllib3\n",
    "requests.packages.urllib3.disable_warnings(category=InsecureRequestWarning)\n",
    "\n",
    "response = requests.request(\"GET\", baseUrl + \"/health\", headers=headers, verify=False )\n",
    "\n",
    "print(json.dumps(response.json(), indent=4))\n",
    "assert response.status_code == 200"
   ]
  },
  {
   "attachments": {},
   "cell_type": "markdown",
   "id": "4194d872",
   "metadata": {
    "pycharm": {
     "name": "#%% md\n"
    }
   },
   "source": [
    "#### admin token generation"
   ]
  },
  {
   "cell_type": "code",
   "execution_count": 56,
   "id": "e4b17322",
   "metadata": {},
   "outputs": [
    {
     "name": "stdout",
     "output_type": "stream",
     "text": [
      "eyJhbGciOiJSUzI1NiIsInR5cCIgOiAiSldUIiwia2lkIiA6ICJXM3U1Y2JKVVFXbTdOaTNrNWRhWXFFdVFtdG9OSGY1M21YMDZoSllJM2YwIn0.eyJleHAiOjE3MTAyODkzNjUsImlhdCI6MTcxMDI4ODc2NSwianRpIjoiM2MyMTcwMTAtYjdiOC00MWM1LWIzMmYtNmE3MjMxYWFmNDIzIiwiaXNzIjoiaHR0cHM6Ly9kZW1vLnN1bmJpcmRyYy5hcHAub2NpL2F1dGgvcmVhbG1zL3N1bmJpcmQtcmMiLCJhdWQiOiJhY2NvdW50Iiwic3ViIjoiM2E5OWVjMTctMDFiZS00NjdiLTg1MmYtOGJiODMwNmFjNjE2IiwidHlwIjoiQmVhcmVyIiwiYXpwIjoicmVnaXN0cnktZnJvbnRlbmQiLCJzZXNzaW9uX3N0YXRlIjoiNGE5NGM5MTYtNjE0NS00ZDAyLWFhMWMtZDE0MWNiNmZmNmFjIiwiYWNyIjoiMSIsImFsbG93ZWQtb3JpZ2lucyI6WyJodHRwczovL2xvY2FsaG9zdDo0MjAyIiwiaHR0cDovL2xvY2FsaG9zdDo0MjAyIiwiaHR0cHM6Ly9kZW1vLnN1bmJpcmRyYy5hcHAub2NpIiwiaHR0cHM6Ly9sb2NhbGhvc3Q6NDIwMCIsImh0dHBzOi8vbmRlYXIueGl2LmluIiwiaHR0cDovL2xvY2FsaG9zdDo0MjAwIiwiaHR0cDovLzIwLjE5OC42NC4xMjgiXSwicmVhbG1fYWNjZXNzIjp7InJvbGVzIjpbIm9mZmxpbmVfYWNjZXNzIiwiYWRtaW4iLCJ1bWFfYXV0aG9yaXphdGlvbiIsImRlZmF1bHQtcm9sZXMtbmRlYXIiXX0sInJlc291cmNlX2FjY2VzcyI6eyJhY2NvdW50Ijp7InJvbGVzIjpbIm1hbmFnZS1hY2NvdW50IiwibWFuYWdlLWFjY291bnQtbGlua3MiLCJ2aWV3LXByb2ZpbGUiXX19LCJzY29wZSI6InByb2ZpbGUgZW1haWwiLCJlbWFpbF92ZXJpZmllZCI6ZmFsc2UsInByZWZlcnJlZF91c2VybmFtZSI6ImFkbWluIn0.yl7eum7w4MsdVVdLc8ZJpyiJDfmt6lcAecd4Im891tDkz2XKucxS8ruR4tlj9Cr9KNizK09N1dHs1CNiJeLnMGsnA6nlAauETZSjhPgB2Ro0PZu3VNiVu1TV0HafgAfW1FTarpqqVvcBDl22zcRox1XfNQMePV35rX5SF8RnGValQa92JZLPDnx31ZoBrh5JnpvrLfsc1oEVE7CNDnqOg_4wobrMCtuTV3rZtHejrn28_tS9dVxl7elOtLWaEns6u-Q1L4Oh9T0EiBBEaO20gUAtJr4F7ITT6cGYesOcrqRsQKD315kglivLKtqC0rRP-rGzATYWS6Lw31VmrcUBtw\n"
     ]
    }
   ],
   "source": [
    "# For admin token generation\n",
    "headers = {\n",
    "    'content-type': 'application/x-www-form-urlencoded',\n",
    "}\n",
    "\n",
    "userId = 'admin'\n",
    "\n",
    "data = {\n",
    "  'client_id': 'registry-frontend',\n",
    "  'username': userId,\n",
    "  'password': 'abcd@123',\n",
    "  'grant_type': 'password'\n",
    "}\n",
    "# Suppress the warnings from urllib3\n",
    "requests.packages.urllib3.disable_warnings(category=InsecureRequestWarning)\n",
    "\n",
    "response = requests.post('%s/auth/realms/sunbird-rc/protocol/openid-connect/token'%(keycloakUrl), headers=headers, data=data,verify=False)\n",
    "token = response.json()[\"access_token\"]\n",
    "print(token)"
   ]
  },
  {
   "attachments": {},
   "cell_type": "markdown",
   "id": "67a4bdab",
   "metadata": {},
   "source": [
    "#### Create Official"
   ]
  },
  {
   "cell_type": "code",
   "execution_count": 50,
   "id": "3e380809",
   "metadata": {},
   "outputs": [
    {
     "ename": "ConnectionError",
     "evalue": "('Connection aborted.', ConnectionResetError(104, 'Connection reset by peer'))",
     "output_type": "error",
     "traceback": [
      "\u001b[0;31m---------------------------------------------------------------------------\u001b[0m",
      "\u001b[0;31mConnectionResetError\u001b[0m                      Traceback (most recent call last)",
      "File \u001b[0;32m/usr/lib/python3/dist-packages/urllib3/connectionpool.py:700\u001b[0m, in \u001b[0;36mHTTPConnectionPool.urlopen\u001b[0;34m(self, method, url, body, headers, retries, redirect, assert_same_host, timeout, pool_timeout, release_conn, chunked, body_pos, **response_kw)\u001b[0m\n\u001b[1;32m    699\u001b[0m \u001b[38;5;66;03m# Make the request on the httplib connection object.\u001b[39;00m\n\u001b[0;32m--> 700\u001b[0m httplib_response \u001b[38;5;241m=\u001b[39m \u001b[38;5;28;43mself\u001b[39;49m\u001b[38;5;241;43m.\u001b[39;49m\u001b[43m_make_request\u001b[49m\u001b[43m(\u001b[49m\n\u001b[1;32m    701\u001b[0m \u001b[43m    \u001b[49m\u001b[43mconn\u001b[49m\u001b[43m,\u001b[49m\n\u001b[1;32m    702\u001b[0m \u001b[43m    \u001b[49m\u001b[43mmethod\u001b[49m\u001b[43m,\u001b[49m\n\u001b[1;32m    703\u001b[0m \u001b[43m    \u001b[49m\u001b[43murl\u001b[49m\u001b[43m,\u001b[49m\n\u001b[1;32m    704\u001b[0m \u001b[43m    \u001b[49m\u001b[43mtimeout\u001b[49m\u001b[38;5;241;43m=\u001b[39;49m\u001b[43mtimeout_obj\u001b[49m\u001b[43m,\u001b[49m\n\u001b[1;32m    705\u001b[0m \u001b[43m    \u001b[49m\u001b[43mbody\u001b[49m\u001b[38;5;241;43m=\u001b[39;49m\u001b[43mbody\u001b[49m\u001b[43m,\u001b[49m\n\u001b[1;32m    706\u001b[0m \u001b[43m    \u001b[49m\u001b[43mheaders\u001b[49m\u001b[38;5;241;43m=\u001b[39;49m\u001b[43mheaders\u001b[49m\u001b[43m,\u001b[49m\n\u001b[1;32m    707\u001b[0m \u001b[43m    \u001b[49m\u001b[43mchunked\u001b[49m\u001b[38;5;241;43m=\u001b[39;49m\u001b[43mchunked\u001b[49m\u001b[43m,\u001b[49m\n\u001b[1;32m    708\u001b[0m \u001b[43m\u001b[49m\u001b[43m)\u001b[49m\n\u001b[1;32m    710\u001b[0m \u001b[38;5;66;03m# If we're going to release the connection in ``finally:``, then\u001b[39;00m\n\u001b[1;32m    711\u001b[0m \u001b[38;5;66;03m# the response doesn't need to know about the connection. Otherwise\u001b[39;00m\n\u001b[1;32m    712\u001b[0m \u001b[38;5;66;03m# it will also try to release it and we'll have a double-release\u001b[39;00m\n\u001b[1;32m    713\u001b[0m \u001b[38;5;66;03m# mess.\u001b[39;00m\n",
      "File \u001b[0;32m/usr/lib/python3/dist-packages/urllib3/connectionpool.py:383\u001b[0m, in \u001b[0;36mHTTPConnectionPool._make_request\u001b[0;34m(self, conn, method, url, timeout, chunked, **httplib_request_kw)\u001b[0m\n\u001b[1;32m    382\u001b[0m \u001b[38;5;28;01mtry\u001b[39;00m:\n\u001b[0;32m--> 383\u001b[0m     \u001b[38;5;28;43mself\u001b[39;49m\u001b[38;5;241;43m.\u001b[39;49m\u001b[43m_validate_conn\u001b[49m\u001b[43m(\u001b[49m\u001b[43mconn\u001b[49m\u001b[43m)\u001b[49m\n\u001b[1;32m    384\u001b[0m \u001b[38;5;28;01mexcept\u001b[39;00m (SocketTimeout, BaseSSLError) \u001b[38;5;28;01mas\u001b[39;00m e:\n\u001b[1;32m    385\u001b[0m     \u001b[38;5;66;03m# Py2 raises this as a BaseSSLError, Py3 raises it as socket timeout.\u001b[39;00m\n",
      "File \u001b[0;32m/usr/lib/python3/dist-packages/urllib3/connectionpool.py:1017\u001b[0m, in \u001b[0;36mHTTPSConnectionPool._validate_conn\u001b[0;34m(self, conn)\u001b[0m\n\u001b[1;32m   1016\u001b[0m \u001b[38;5;28;01mif\u001b[39;00m \u001b[38;5;129;01mnot\u001b[39;00m \u001b[38;5;28mgetattr\u001b[39m(conn, \u001b[38;5;124m\"\u001b[39m\u001b[38;5;124msock\u001b[39m\u001b[38;5;124m\"\u001b[39m, \u001b[38;5;28;01mNone\u001b[39;00m):  \u001b[38;5;66;03m# AppEngine might not have  `.sock`\u001b[39;00m\n\u001b[0;32m-> 1017\u001b[0m     \u001b[43mconn\u001b[49m\u001b[38;5;241;43m.\u001b[39;49m\u001b[43mconnect\u001b[49m\u001b[43m(\u001b[49m\u001b[43m)\u001b[49m\n\u001b[1;32m   1019\u001b[0m \u001b[38;5;28;01mif\u001b[39;00m \u001b[38;5;129;01mnot\u001b[39;00m conn\u001b[38;5;241m.\u001b[39mis_verified:\n",
      "File \u001b[0;32m/usr/lib/python3/dist-packages/urllib3/connection.py:411\u001b[0m, in \u001b[0;36mHTTPSConnection.connect\u001b[0;34m(self)\u001b[0m\n\u001b[1;32m    409\u001b[0m     context\u001b[38;5;241m.\u001b[39mload_default_certs()\n\u001b[0;32m--> 411\u001b[0m \u001b[38;5;28mself\u001b[39m\u001b[38;5;241m.\u001b[39msock \u001b[38;5;241m=\u001b[39m \u001b[43mssl_wrap_socket\u001b[49m\u001b[43m(\u001b[49m\n\u001b[1;32m    412\u001b[0m \u001b[43m    \u001b[49m\u001b[43msock\u001b[49m\u001b[38;5;241;43m=\u001b[39;49m\u001b[43mconn\u001b[49m\u001b[43m,\u001b[49m\n\u001b[1;32m    413\u001b[0m \u001b[43m    \u001b[49m\u001b[43mkeyfile\u001b[49m\u001b[38;5;241;43m=\u001b[39;49m\u001b[38;5;28;43mself\u001b[39;49m\u001b[38;5;241;43m.\u001b[39;49m\u001b[43mkey_file\u001b[49m\u001b[43m,\u001b[49m\n\u001b[1;32m    414\u001b[0m \u001b[43m    \u001b[49m\u001b[43mcertfile\u001b[49m\u001b[38;5;241;43m=\u001b[39;49m\u001b[38;5;28;43mself\u001b[39;49m\u001b[38;5;241;43m.\u001b[39;49m\u001b[43mcert_file\u001b[49m\u001b[43m,\u001b[49m\n\u001b[1;32m    415\u001b[0m \u001b[43m    \u001b[49m\u001b[43mkey_password\u001b[49m\u001b[38;5;241;43m=\u001b[39;49m\u001b[38;5;28;43mself\u001b[39;49m\u001b[38;5;241;43m.\u001b[39;49m\u001b[43mkey_password\u001b[49m\u001b[43m,\u001b[49m\n\u001b[1;32m    416\u001b[0m \u001b[43m    \u001b[49m\u001b[43mca_certs\u001b[49m\u001b[38;5;241;43m=\u001b[39;49m\u001b[38;5;28;43mself\u001b[39;49m\u001b[38;5;241;43m.\u001b[39;49m\u001b[43mca_certs\u001b[49m\u001b[43m,\u001b[49m\n\u001b[1;32m    417\u001b[0m \u001b[43m    \u001b[49m\u001b[43mca_cert_dir\u001b[49m\u001b[38;5;241;43m=\u001b[39;49m\u001b[38;5;28;43mself\u001b[39;49m\u001b[38;5;241;43m.\u001b[39;49m\u001b[43mca_cert_dir\u001b[49m\u001b[43m,\u001b[49m\n\u001b[1;32m    418\u001b[0m \u001b[43m    \u001b[49m\u001b[43mca_cert_data\u001b[49m\u001b[38;5;241;43m=\u001b[39;49m\u001b[38;5;28;43mself\u001b[39;49m\u001b[38;5;241;43m.\u001b[39;49m\u001b[43mca_cert_data\u001b[49m\u001b[43m,\u001b[49m\n\u001b[1;32m    419\u001b[0m \u001b[43m    \u001b[49m\u001b[43mserver_hostname\u001b[49m\u001b[38;5;241;43m=\u001b[39;49m\u001b[43mserver_hostname\u001b[49m\u001b[43m,\u001b[49m\n\u001b[1;32m    420\u001b[0m \u001b[43m    \u001b[49m\u001b[43mssl_context\u001b[49m\u001b[38;5;241;43m=\u001b[39;49m\u001b[43mcontext\u001b[49m\u001b[43m,\u001b[49m\n\u001b[1;32m    421\u001b[0m \u001b[43m    \u001b[49m\u001b[43mtls_in_tls\u001b[49m\u001b[38;5;241;43m=\u001b[39;49m\u001b[43mtls_in_tls\u001b[49m\u001b[43m,\u001b[49m\n\u001b[1;32m    422\u001b[0m \u001b[43m\u001b[49m\u001b[43m)\u001b[49m\n\u001b[1;32m    424\u001b[0m \u001b[38;5;66;03m# If we're using all defaults and the connection\u001b[39;00m\n\u001b[1;32m    425\u001b[0m \u001b[38;5;66;03m# is TLSv1 or TLSv1.1 we throw a DeprecationWarning\u001b[39;00m\n\u001b[1;32m    426\u001b[0m \u001b[38;5;66;03m# for the host.\u001b[39;00m\n",
      "File \u001b[0;32m/usr/lib/python3/dist-packages/urllib3/util/ssl_.py:449\u001b[0m, in \u001b[0;36mssl_wrap_socket\u001b[0;34m(sock, keyfile, certfile, cert_reqs, ca_certs, server_hostname, ssl_version, ciphers, ssl_context, ca_cert_dir, key_password, ca_cert_data, tls_in_tls)\u001b[0m\n\u001b[1;32m    448\u001b[0m \u001b[38;5;28;01mif\u001b[39;00m send_sni:\n\u001b[0;32m--> 449\u001b[0m     ssl_sock \u001b[38;5;241m=\u001b[39m \u001b[43m_ssl_wrap_socket_impl\u001b[49m\u001b[43m(\u001b[49m\n\u001b[1;32m    450\u001b[0m \u001b[43m        \u001b[49m\u001b[43msock\u001b[49m\u001b[43m,\u001b[49m\u001b[43m \u001b[49m\u001b[43mcontext\u001b[49m\u001b[43m,\u001b[49m\u001b[43m \u001b[49m\u001b[43mtls_in_tls\u001b[49m\u001b[43m,\u001b[49m\u001b[43m \u001b[49m\u001b[43mserver_hostname\u001b[49m\u001b[38;5;241;43m=\u001b[39;49m\u001b[43mserver_hostname\u001b[49m\n\u001b[1;32m    451\u001b[0m \u001b[43m    \u001b[49m\u001b[43m)\u001b[49m\n\u001b[1;32m    452\u001b[0m \u001b[38;5;28;01melse\u001b[39;00m:\n",
      "File \u001b[0;32m/usr/lib/python3/dist-packages/urllib3/util/ssl_.py:493\u001b[0m, in \u001b[0;36m_ssl_wrap_socket_impl\u001b[0;34m(sock, ssl_context, tls_in_tls, server_hostname)\u001b[0m\n\u001b[1;32m    492\u001b[0m \u001b[38;5;28;01mif\u001b[39;00m server_hostname:\n\u001b[0;32m--> 493\u001b[0m     \u001b[38;5;28;01mreturn\u001b[39;00m \u001b[43mssl_context\u001b[49m\u001b[38;5;241;43m.\u001b[39;49m\u001b[43mwrap_socket\u001b[49m\u001b[43m(\u001b[49m\u001b[43msock\u001b[49m\u001b[43m,\u001b[49m\u001b[43m \u001b[49m\u001b[43mserver_hostname\u001b[49m\u001b[38;5;241;43m=\u001b[39;49m\u001b[43mserver_hostname\u001b[49m\u001b[43m)\u001b[49m\n\u001b[1;32m    494\u001b[0m \u001b[38;5;28;01melse\u001b[39;00m:\n",
      "File \u001b[0;32m/usr/lib/python3.10/ssl.py:513\u001b[0m, in \u001b[0;36mSSLContext.wrap_socket\u001b[0;34m(self, sock, server_side, do_handshake_on_connect, suppress_ragged_eofs, server_hostname, session)\u001b[0m\n\u001b[1;32m    507\u001b[0m \u001b[38;5;28;01mdef\u001b[39;00m \u001b[38;5;21mwrap_socket\u001b[39m(\u001b[38;5;28mself\u001b[39m, sock, server_side\u001b[38;5;241m=\u001b[39m\u001b[38;5;28;01mFalse\u001b[39;00m,\n\u001b[1;32m    508\u001b[0m                 do_handshake_on_connect\u001b[38;5;241m=\u001b[39m\u001b[38;5;28;01mTrue\u001b[39;00m,\n\u001b[1;32m    509\u001b[0m                 suppress_ragged_eofs\u001b[38;5;241m=\u001b[39m\u001b[38;5;28;01mTrue\u001b[39;00m,\n\u001b[1;32m    510\u001b[0m                 server_hostname\u001b[38;5;241m=\u001b[39m\u001b[38;5;28;01mNone\u001b[39;00m, session\u001b[38;5;241m=\u001b[39m\u001b[38;5;28;01mNone\u001b[39;00m):\n\u001b[1;32m    511\u001b[0m     \u001b[38;5;66;03m# SSLSocket class handles server_hostname encoding before it calls\u001b[39;00m\n\u001b[1;32m    512\u001b[0m     \u001b[38;5;66;03m# ctx._wrap_socket()\u001b[39;00m\n\u001b[0;32m--> 513\u001b[0m     \u001b[38;5;28;01mreturn\u001b[39;00m \u001b[38;5;28;43mself\u001b[39;49m\u001b[38;5;241;43m.\u001b[39;49m\u001b[43msslsocket_class\u001b[49m\u001b[38;5;241;43m.\u001b[39;49m\u001b[43m_create\u001b[49m\u001b[43m(\u001b[49m\n\u001b[1;32m    514\u001b[0m \u001b[43m        \u001b[49m\u001b[43msock\u001b[49m\u001b[38;5;241;43m=\u001b[39;49m\u001b[43msock\u001b[49m\u001b[43m,\u001b[49m\n\u001b[1;32m    515\u001b[0m \u001b[43m        \u001b[49m\u001b[43mserver_side\u001b[49m\u001b[38;5;241;43m=\u001b[39;49m\u001b[43mserver_side\u001b[49m\u001b[43m,\u001b[49m\n\u001b[1;32m    516\u001b[0m \u001b[43m        \u001b[49m\u001b[43mdo_handshake_on_connect\u001b[49m\u001b[38;5;241;43m=\u001b[39;49m\u001b[43mdo_handshake_on_connect\u001b[49m\u001b[43m,\u001b[49m\n\u001b[1;32m    517\u001b[0m \u001b[43m        \u001b[49m\u001b[43msuppress_ragged_eofs\u001b[49m\u001b[38;5;241;43m=\u001b[39;49m\u001b[43msuppress_ragged_eofs\u001b[49m\u001b[43m,\u001b[49m\n\u001b[1;32m    518\u001b[0m \u001b[43m        \u001b[49m\u001b[43mserver_hostname\u001b[49m\u001b[38;5;241;43m=\u001b[39;49m\u001b[43mserver_hostname\u001b[49m\u001b[43m,\u001b[49m\n\u001b[1;32m    519\u001b[0m \u001b[43m        \u001b[49m\u001b[43mcontext\u001b[49m\u001b[38;5;241;43m=\u001b[39;49m\u001b[38;5;28;43mself\u001b[39;49m\u001b[43m,\u001b[49m\n\u001b[1;32m    520\u001b[0m \u001b[43m        \u001b[49m\u001b[43msession\u001b[49m\u001b[38;5;241;43m=\u001b[39;49m\u001b[43msession\u001b[49m\n\u001b[1;32m    521\u001b[0m \u001b[43m    \u001b[49m\u001b[43m)\u001b[49m\n",
      "File \u001b[0;32m/usr/lib/python3.10/ssl.py:1100\u001b[0m, in \u001b[0;36mSSLSocket._create\u001b[0;34m(cls, sock, server_side, do_handshake_on_connect, suppress_ragged_eofs, server_hostname, context, session)\u001b[0m\n\u001b[1;32m   1099\u001b[0m             \u001b[38;5;28;01mraise\u001b[39;00m \u001b[38;5;167;01mValueError\u001b[39;00m(\u001b[38;5;124m\"\u001b[39m\u001b[38;5;124mdo_handshake_on_connect should not be specified for non-blocking sockets\u001b[39m\u001b[38;5;124m\"\u001b[39m)\n\u001b[0;32m-> 1100\u001b[0m         \u001b[38;5;28;43mself\u001b[39;49m\u001b[38;5;241;43m.\u001b[39;49m\u001b[43mdo_handshake\u001b[49m\u001b[43m(\u001b[49m\u001b[43m)\u001b[49m\n\u001b[1;32m   1101\u001b[0m \u001b[38;5;28;01mexcept\u001b[39;00m (\u001b[38;5;167;01mOSError\u001b[39;00m, \u001b[38;5;167;01mValueError\u001b[39;00m):\n",
      "File \u001b[0;32m/usr/lib/python3.10/ssl.py:1371\u001b[0m, in \u001b[0;36mSSLSocket.do_handshake\u001b[0;34m(self, block)\u001b[0m\n\u001b[1;32m   1370\u001b[0m         \u001b[38;5;28mself\u001b[39m\u001b[38;5;241m.\u001b[39msettimeout(\u001b[38;5;28;01mNone\u001b[39;00m)\n\u001b[0;32m-> 1371\u001b[0m     \u001b[38;5;28;43mself\u001b[39;49m\u001b[38;5;241;43m.\u001b[39;49m\u001b[43m_sslobj\u001b[49m\u001b[38;5;241;43m.\u001b[39;49m\u001b[43mdo_handshake\u001b[49m\u001b[43m(\u001b[49m\u001b[43m)\u001b[49m\n\u001b[1;32m   1372\u001b[0m \u001b[38;5;28;01mfinally\u001b[39;00m:\n",
      "\u001b[0;31mConnectionResetError\u001b[0m: [Errno 104] Connection reset by peer",
      "\nDuring handling of the above exception, another exception occurred:\n",
      "\u001b[0;31mProtocolError\u001b[0m                             Traceback (most recent call last)",
      "File \u001b[0;32m/usr/lib/python3/dist-packages/requests/adapters.py:439\u001b[0m, in \u001b[0;36mHTTPAdapter.send\u001b[0;34m(self, request, stream, timeout, verify, cert, proxies)\u001b[0m\n\u001b[1;32m    438\u001b[0m \u001b[38;5;28;01mif\u001b[39;00m \u001b[38;5;129;01mnot\u001b[39;00m chunked:\n\u001b[0;32m--> 439\u001b[0m     resp \u001b[38;5;241m=\u001b[39m \u001b[43mconn\u001b[49m\u001b[38;5;241;43m.\u001b[39;49m\u001b[43murlopen\u001b[49m\u001b[43m(\u001b[49m\n\u001b[1;32m    440\u001b[0m \u001b[43m        \u001b[49m\u001b[43mmethod\u001b[49m\u001b[38;5;241;43m=\u001b[39;49m\u001b[43mrequest\u001b[49m\u001b[38;5;241;43m.\u001b[39;49m\u001b[43mmethod\u001b[49m\u001b[43m,\u001b[49m\n\u001b[1;32m    441\u001b[0m \u001b[43m        \u001b[49m\u001b[43murl\u001b[49m\u001b[38;5;241;43m=\u001b[39;49m\u001b[43murl\u001b[49m\u001b[43m,\u001b[49m\n\u001b[1;32m    442\u001b[0m \u001b[43m        \u001b[49m\u001b[43mbody\u001b[49m\u001b[38;5;241;43m=\u001b[39;49m\u001b[43mrequest\u001b[49m\u001b[38;5;241;43m.\u001b[39;49m\u001b[43mbody\u001b[49m\u001b[43m,\u001b[49m\n\u001b[1;32m    443\u001b[0m \u001b[43m        \u001b[49m\u001b[43mheaders\u001b[49m\u001b[38;5;241;43m=\u001b[39;49m\u001b[43mrequest\u001b[49m\u001b[38;5;241;43m.\u001b[39;49m\u001b[43mheaders\u001b[49m\u001b[43m,\u001b[49m\n\u001b[1;32m    444\u001b[0m \u001b[43m        \u001b[49m\u001b[43mredirect\u001b[49m\u001b[38;5;241;43m=\u001b[39;49m\u001b[38;5;28;43;01mFalse\u001b[39;49;00m\u001b[43m,\u001b[49m\n\u001b[1;32m    445\u001b[0m \u001b[43m        \u001b[49m\u001b[43massert_same_host\u001b[49m\u001b[38;5;241;43m=\u001b[39;49m\u001b[38;5;28;43;01mFalse\u001b[39;49;00m\u001b[43m,\u001b[49m\n\u001b[1;32m    446\u001b[0m \u001b[43m        \u001b[49m\u001b[43mpreload_content\u001b[49m\u001b[38;5;241;43m=\u001b[39;49m\u001b[38;5;28;43;01mFalse\u001b[39;49;00m\u001b[43m,\u001b[49m\n\u001b[1;32m    447\u001b[0m \u001b[43m        \u001b[49m\u001b[43mdecode_content\u001b[49m\u001b[38;5;241;43m=\u001b[39;49m\u001b[38;5;28;43;01mFalse\u001b[39;49;00m\u001b[43m,\u001b[49m\n\u001b[1;32m    448\u001b[0m \u001b[43m        \u001b[49m\u001b[43mretries\u001b[49m\u001b[38;5;241;43m=\u001b[39;49m\u001b[38;5;28;43mself\u001b[39;49m\u001b[38;5;241;43m.\u001b[39;49m\u001b[43mmax_retries\u001b[49m\u001b[43m,\u001b[49m\n\u001b[1;32m    449\u001b[0m \u001b[43m        \u001b[49m\u001b[43mtimeout\u001b[49m\u001b[38;5;241;43m=\u001b[39;49m\u001b[43mtimeout\u001b[49m\n\u001b[1;32m    450\u001b[0m \u001b[43m    \u001b[49m\u001b[43m)\u001b[49m\n\u001b[1;32m    452\u001b[0m \u001b[38;5;66;03m# Send the request.\u001b[39;00m\n\u001b[1;32m    453\u001b[0m \u001b[38;5;28;01melse\u001b[39;00m:\n",
      "File \u001b[0;32m/usr/lib/python3/dist-packages/urllib3/connectionpool.py:756\u001b[0m, in \u001b[0;36mHTTPConnectionPool.urlopen\u001b[0;34m(self, method, url, body, headers, retries, redirect, assert_same_host, timeout, pool_timeout, release_conn, chunked, body_pos, **response_kw)\u001b[0m\n\u001b[1;32m    754\u001b[0m     e \u001b[38;5;241m=\u001b[39m ProtocolError(\u001b[38;5;124m\"\u001b[39m\u001b[38;5;124mConnection aborted.\u001b[39m\u001b[38;5;124m\"\u001b[39m, e)\n\u001b[0;32m--> 756\u001b[0m retries \u001b[38;5;241m=\u001b[39m \u001b[43mretries\u001b[49m\u001b[38;5;241;43m.\u001b[39;49m\u001b[43mincrement\u001b[49m\u001b[43m(\u001b[49m\n\u001b[1;32m    757\u001b[0m \u001b[43m    \u001b[49m\u001b[43mmethod\u001b[49m\u001b[43m,\u001b[49m\u001b[43m \u001b[49m\u001b[43murl\u001b[49m\u001b[43m,\u001b[49m\u001b[43m \u001b[49m\u001b[43merror\u001b[49m\u001b[38;5;241;43m=\u001b[39;49m\u001b[43me\u001b[49m\u001b[43m,\u001b[49m\u001b[43m \u001b[49m\u001b[43m_pool\u001b[49m\u001b[38;5;241;43m=\u001b[39;49m\u001b[38;5;28;43mself\u001b[39;49m\u001b[43m,\u001b[49m\u001b[43m \u001b[49m\u001b[43m_stacktrace\u001b[49m\u001b[38;5;241;43m=\u001b[39;49m\u001b[43msys\u001b[49m\u001b[38;5;241;43m.\u001b[39;49m\u001b[43mexc_info\u001b[49m\u001b[43m(\u001b[49m\u001b[43m)\u001b[49m\u001b[43m[\u001b[49m\u001b[38;5;241;43m2\u001b[39;49m\u001b[43m]\u001b[49m\n\u001b[1;32m    758\u001b[0m \u001b[43m\u001b[49m\u001b[43m)\u001b[49m\n\u001b[1;32m    759\u001b[0m retries\u001b[38;5;241m.\u001b[39msleep()\n",
      "File \u001b[0;32m/usr/lib/python3/dist-packages/urllib3/util/retry.py:532\u001b[0m, in \u001b[0;36mRetry.increment\u001b[0;34m(self, method, url, response, error, _pool, _stacktrace)\u001b[0m\n\u001b[1;32m    531\u001b[0m \u001b[38;5;28;01mif\u001b[39;00m read \u001b[38;5;129;01mis\u001b[39;00m \u001b[38;5;28;01mFalse\u001b[39;00m \u001b[38;5;129;01mor\u001b[39;00m \u001b[38;5;129;01mnot\u001b[39;00m \u001b[38;5;28mself\u001b[39m\u001b[38;5;241m.\u001b[39m_is_method_retryable(method):\n\u001b[0;32m--> 532\u001b[0m     \u001b[38;5;28;01mraise\u001b[39;00m \u001b[43msix\u001b[49m\u001b[38;5;241;43m.\u001b[39;49m\u001b[43mreraise\u001b[49m\u001b[43m(\u001b[49m\u001b[38;5;28;43mtype\u001b[39;49m\u001b[43m(\u001b[49m\u001b[43merror\u001b[49m\u001b[43m)\u001b[49m\u001b[43m,\u001b[49m\u001b[43m \u001b[49m\u001b[43merror\u001b[49m\u001b[43m,\u001b[49m\u001b[43m \u001b[49m\u001b[43m_stacktrace\u001b[49m\u001b[43m)\u001b[49m\n\u001b[1;32m    533\u001b[0m \u001b[38;5;28;01melif\u001b[39;00m read \u001b[38;5;129;01mis\u001b[39;00m \u001b[38;5;129;01mnot\u001b[39;00m \u001b[38;5;28;01mNone\u001b[39;00m:\n",
      "File \u001b[0;32m/usr/lib/python3/dist-packages/six.py:718\u001b[0m, in \u001b[0;36mreraise\u001b[0;34m(tp, value, tb)\u001b[0m\n\u001b[1;32m    717\u001b[0m \u001b[38;5;28;01mif\u001b[39;00m value\u001b[38;5;241m.\u001b[39m__traceback__ \u001b[38;5;129;01mis\u001b[39;00m \u001b[38;5;129;01mnot\u001b[39;00m tb:\n\u001b[0;32m--> 718\u001b[0m     \u001b[38;5;28;01mraise\u001b[39;00m value\u001b[38;5;241m.\u001b[39mwith_traceback(tb)\n\u001b[1;32m    719\u001b[0m \u001b[38;5;28;01mraise\u001b[39;00m value\n",
      "File \u001b[0;32m/usr/lib/python3/dist-packages/urllib3/connectionpool.py:700\u001b[0m, in \u001b[0;36mHTTPConnectionPool.urlopen\u001b[0;34m(self, method, url, body, headers, retries, redirect, assert_same_host, timeout, pool_timeout, release_conn, chunked, body_pos, **response_kw)\u001b[0m\n\u001b[1;32m    699\u001b[0m \u001b[38;5;66;03m# Make the request on the httplib connection object.\u001b[39;00m\n\u001b[0;32m--> 700\u001b[0m httplib_response \u001b[38;5;241m=\u001b[39m \u001b[38;5;28;43mself\u001b[39;49m\u001b[38;5;241;43m.\u001b[39;49m\u001b[43m_make_request\u001b[49m\u001b[43m(\u001b[49m\n\u001b[1;32m    701\u001b[0m \u001b[43m    \u001b[49m\u001b[43mconn\u001b[49m\u001b[43m,\u001b[49m\n\u001b[1;32m    702\u001b[0m \u001b[43m    \u001b[49m\u001b[43mmethod\u001b[49m\u001b[43m,\u001b[49m\n\u001b[1;32m    703\u001b[0m \u001b[43m    \u001b[49m\u001b[43murl\u001b[49m\u001b[43m,\u001b[49m\n\u001b[1;32m    704\u001b[0m \u001b[43m    \u001b[49m\u001b[43mtimeout\u001b[49m\u001b[38;5;241;43m=\u001b[39;49m\u001b[43mtimeout_obj\u001b[49m\u001b[43m,\u001b[49m\n\u001b[1;32m    705\u001b[0m \u001b[43m    \u001b[49m\u001b[43mbody\u001b[49m\u001b[38;5;241;43m=\u001b[39;49m\u001b[43mbody\u001b[49m\u001b[43m,\u001b[49m\n\u001b[1;32m    706\u001b[0m \u001b[43m    \u001b[49m\u001b[43mheaders\u001b[49m\u001b[38;5;241;43m=\u001b[39;49m\u001b[43mheaders\u001b[49m\u001b[43m,\u001b[49m\n\u001b[1;32m    707\u001b[0m \u001b[43m    \u001b[49m\u001b[43mchunked\u001b[49m\u001b[38;5;241;43m=\u001b[39;49m\u001b[43mchunked\u001b[49m\u001b[43m,\u001b[49m\n\u001b[1;32m    708\u001b[0m \u001b[43m\u001b[49m\u001b[43m)\u001b[49m\n\u001b[1;32m    710\u001b[0m \u001b[38;5;66;03m# If we're going to release the connection in ``finally:``, then\u001b[39;00m\n\u001b[1;32m    711\u001b[0m \u001b[38;5;66;03m# the response doesn't need to know about the connection. Otherwise\u001b[39;00m\n\u001b[1;32m    712\u001b[0m \u001b[38;5;66;03m# it will also try to release it and we'll have a double-release\u001b[39;00m\n\u001b[1;32m    713\u001b[0m \u001b[38;5;66;03m# mess.\u001b[39;00m\n",
      "File \u001b[0;32m/usr/lib/python3/dist-packages/urllib3/connectionpool.py:383\u001b[0m, in \u001b[0;36mHTTPConnectionPool._make_request\u001b[0;34m(self, conn, method, url, timeout, chunked, **httplib_request_kw)\u001b[0m\n\u001b[1;32m    382\u001b[0m \u001b[38;5;28;01mtry\u001b[39;00m:\n\u001b[0;32m--> 383\u001b[0m     \u001b[38;5;28;43mself\u001b[39;49m\u001b[38;5;241;43m.\u001b[39;49m\u001b[43m_validate_conn\u001b[49m\u001b[43m(\u001b[49m\u001b[43mconn\u001b[49m\u001b[43m)\u001b[49m\n\u001b[1;32m    384\u001b[0m \u001b[38;5;28;01mexcept\u001b[39;00m (SocketTimeout, BaseSSLError) \u001b[38;5;28;01mas\u001b[39;00m e:\n\u001b[1;32m    385\u001b[0m     \u001b[38;5;66;03m# Py2 raises this as a BaseSSLError, Py3 raises it as socket timeout.\u001b[39;00m\n",
      "File \u001b[0;32m/usr/lib/python3/dist-packages/urllib3/connectionpool.py:1017\u001b[0m, in \u001b[0;36mHTTPSConnectionPool._validate_conn\u001b[0;34m(self, conn)\u001b[0m\n\u001b[1;32m   1016\u001b[0m \u001b[38;5;28;01mif\u001b[39;00m \u001b[38;5;129;01mnot\u001b[39;00m \u001b[38;5;28mgetattr\u001b[39m(conn, \u001b[38;5;124m\"\u001b[39m\u001b[38;5;124msock\u001b[39m\u001b[38;5;124m\"\u001b[39m, \u001b[38;5;28;01mNone\u001b[39;00m):  \u001b[38;5;66;03m# AppEngine might not have  `.sock`\u001b[39;00m\n\u001b[0;32m-> 1017\u001b[0m     \u001b[43mconn\u001b[49m\u001b[38;5;241;43m.\u001b[39;49m\u001b[43mconnect\u001b[49m\u001b[43m(\u001b[49m\u001b[43m)\u001b[49m\n\u001b[1;32m   1019\u001b[0m \u001b[38;5;28;01mif\u001b[39;00m \u001b[38;5;129;01mnot\u001b[39;00m conn\u001b[38;5;241m.\u001b[39mis_verified:\n",
      "File \u001b[0;32m/usr/lib/python3/dist-packages/urllib3/connection.py:411\u001b[0m, in \u001b[0;36mHTTPSConnection.connect\u001b[0;34m(self)\u001b[0m\n\u001b[1;32m    409\u001b[0m     context\u001b[38;5;241m.\u001b[39mload_default_certs()\n\u001b[0;32m--> 411\u001b[0m \u001b[38;5;28mself\u001b[39m\u001b[38;5;241m.\u001b[39msock \u001b[38;5;241m=\u001b[39m \u001b[43mssl_wrap_socket\u001b[49m\u001b[43m(\u001b[49m\n\u001b[1;32m    412\u001b[0m \u001b[43m    \u001b[49m\u001b[43msock\u001b[49m\u001b[38;5;241;43m=\u001b[39;49m\u001b[43mconn\u001b[49m\u001b[43m,\u001b[49m\n\u001b[1;32m    413\u001b[0m \u001b[43m    \u001b[49m\u001b[43mkeyfile\u001b[49m\u001b[38;5;241;43m=\u001b[39;49m\u001b[38;5;28;43mself\u001b[39;49m\u001b[38;5;241;43m.\u001b[39;49m\u001b[43mkey_file\u001b[49m\u001b[43m,\u001b[49m\n\u001b[1;32m    414\u001b[0m \u001b[43m    \u001b[49m\u001b[43mcertfile\u001b[49m\u001b[38;5;241;43m=\u001b[39;49m\u001b[38;5;28;43mself\u001b[39;49m\u001b[38;5;241;43m.\u001b[39;49m\u001b[43mcert_file\u001b[49m\u001b[43m,\u001b[49m\n\u001b[1;32m    415\u001b[0m \u001b[43m    \u001b[49m\u001b[43mkey_password\u001b[49m\u001b[38;5;241;43m=\u001b[39;49m\u001b[38;5;28;43mself\u001b[39;49m\u001b[38;5;241;43m.\u001b[39;49m\u001b[43mkey_password\u001b[49m\u001b[43m,\u001b[49m\n\u001b[1;32m    416\u001b[0m \u001b[43m    \u001b[49m\u001b[43mca_certs\u001b[49m\u001b[38;5;241;43m=\u001b[39;49m\u001b[38;5;28;43mself\u001b[39;49m\u001b[38;5;241;43m.\u001b[39;49m\u001b[43mca_certs\u001b[49m\u001b[43m,\u001b[49m\n\u001b[1;32m    417\u001b[0m \u001b[43m    \u001b[49m\u001b[43mca_cert_dir\u001b[49m\u001b[38;5;241;43m=\u001b[39;49m\u001b[38;5;28;43mself\u001b[39;49m\u001b[38;5;241;43m.\u001b[39;49m\u001b[43mca_cert_dir\u001b[49m\u001b[43m,\u001b[49m\n\u001b[1;32m    418\u001b[0m \u001b[43m    \u001b[49m\u001b[43mca_cert_data\u001b[49m\u001b[38;5;241;43m=\u001b[39;49m\u001b[38;5;28;43mself\u001b[39;49m\u001b[38;5;241;43m.\u001b[39;49m\u001b[43mca_cert_data\u001b[49m\u001b[43m,\u001b[49m\n\u001b[1;32m    419\u001b[0m \u001b[43m    \u001b[49m\u001b[43mserver_hostname\u001b[49m\u001b[38;5;241;43m=\u001b[39;49m\u001b[43mserver_hostname\u001b[49m\u001b[43m,\u001b[49m\n\u001b[1;32m    420\u001b[0m \u001b[43m    \u001b[49m\u001b[43mssl_context\u001b[49m\u001b[38;5;241;43m=\u001b[39;49m\u001b[43mcontext\u001b[49m\u001b[43m,\u001b[49m\n\u001b[1;32m    421\u001b[0m \u001b[43m    \u001b[49m\u001b[43mtls_in_tls\u001b[49m\u001b[38;5;241;43m=\u001b[39;49m\u001b[43mtls_in_tls\u001b[49m\u001b[43m,\u001b[49m\n\u001b[1;32m    422\u001b[0m \u001b[43m\u001b[49m\u001b[43m)\u001b[49m\n\u001b[1;32m    424\u001b[0m \u001b[38;5;66;03m# If we're using all defaults and the connection\u001b[39;00m\n\u001b[1;32m    425\u001b[0m \u001b[38;5;66;03m# is TLSv1 or TLSv1.1 we throw a DeprecationWarning\u001b[39;00m\n\u001b[1;32m    426\u001b[0m \u001b[38;5;66;03m# for the host.\u001b[39;00m\n",
      "File \u001b[0;32m/usr/lib/python3/dist-packages/urllib3/util/ssl_.py:449\u001b[0m, in \u001b[0;36mssl_wrap_socket\u001b[0;34m(sock, keyfile, certfile, cert_reqs, ca_certs, server_hostname, ssl_version, ciphers, ssl_context, ca_cert_dir, key_password, ca_cert_data, tls_in_tls)\u001b[0m\n\u001b[1;32m    448\u001b[0m \u001b[38;5;28;01mif\u001b[39;00m send_sni:\n\u001b[0;32m--> 449\u001b[0m     ssl_sock \u001b[38;5;241m=\u001b[39m \u001b[43m_ssl_wrap_socket_impl\u001b[49m\u001b[43m(\u001b[49m\n\u001b[1;32m    450\u001b[0m \u001b[43m        \u001b[49m\u001b[43msock\u001b[49m\u001b[43m,\u001b[49m\u001b[43m \u001b[49m\u001b[43mcontext\u001b[49m\u001b[43m,\u001b[49m\u001b[43m \u001b[49m\u001b[43mtls_in_tls\u001b[49m\u001b[43m,\u001b[49m\u001b[43m \u001b[49m\u001b[43mserver_hostname\u001b[49m\u001b[38;5;241;43m=\u001b[39;49m\u001b[43mserver_hostname\u001b[49m\n\u001b[1;32m    451\u001b[0m \u001b[43m    \u001b[49m\u001b[43m)\u001b[49m\n\u001b[1;32m    452\u001b[0m \u001b[38;5;28;01melse\u001b[39;00m:\n",
      "File \u001b[0;32m/usr/lib/python3/dist-packages/urllib3/util/ssl_.py:493\u001b[0m, in \u001b[0;36m_ssl_wrap_socket_impl\u001b[0;34m(sock, ssl_context, tls_in_tls, server_hostname)\u001b[0m\n\u001b[1;32m    492\u001b[0m \u001b[38;5;28;01mif\u001b[39;00m server_hostname:\n\u001b[0;32m--> 493\u001b[0m     \u001b[38;5;28;01mreturn\u001b[39;00m \u001b[43mssl_context\u001b[49m\u001b[38;5;241;43m.\u001b[39;49m\u001b[43mwrap_socket\u001b[49m\u001b[43m(\u001b[49m\u001b[43msock\u001b[49m\u001b[43m,\u001b[49m\u001b[43m \u001b[49m\u001b[43mserver_hostname\u001b[49m\u001b[38;5;241;43m=\u001b[39;49m\u001b[43mserver_hostname\u001b[49m\u001b[43m)\u001b[49m\n\u001b[1;32m    494\u001b[0m \u001b[38;5;28;01melse\u001b[39;00m:\n",
      "File \u001b[0;32m/usr/lib/python3.10/ssl.py:513\u001b[0m, in \u001b[0;36mSSLContext.wrap_socket\u001b[0;34m(self, sock, server_side, do_handshake_on_connect, suppress_ragged_eofs, server_hostname, session)\u001b[0m\n\u001b[1;32m    507\u001b[0m \u001b[38;5;28;01mdef\u001b[39;00m \u001b[38;5;21mwrap_socket\u001b[39m(\u001b[38;5;28mself\u001b[39m, sock, server_side\u001b[38;5;241m=\u001b[39m\u001b[38;5;28;01mFalse\u001b[39;00m,\n\u001b[1;32m    508\u001b[0m                 do_handshake_on_connect\u001b[38;5;241m=\u001b[39m\u001b[38;5;28;01mTrue\u001b[39;00m,\n\u001b[1;32m    509\u001b[0m                 suppress_ragged_eofs\u001b[38;5;241m=\u001b[39m\u001b[38;5;28;01mTrue\u001b[39;00m,\n\u001b[1;32m    510\u001b[0m                 server_hostname\u001b[38;5;241m=\u001b[39m\u001b[38;5;28;01mNone\u001b[39;00m, session\u001b[38;5;241m=\u001b[39m\u001b[38;5;28;01mNone\u001b[39;00m):\n\u001b[1;32m    511\u001b[0m     \u001b[38;5;66;03m# SSLSocket class handles server_hostname encoding before it calls\u001b[39;00m\n\u001b[1;32m    512\u001b[0m     \u001b[38;5;66;03m# ctx._wrap_socket()\u001b[39;00m\n\u001b[0;32m--> 513\u001b[0m     \u001b[38;5;28;01mreturn\u001b[39;00m \u001b[38;5;28;43mself\u001b[39;49m\u001b[38;5;241;43m.\u001b[39;49m\u001b[43msslsocket_class\u001b[49m\u001b[38;5;241;43m.\u001b[39;49m\u001b[43m_create\u001b[49m\u001b[43m(\u001b[49m\n\u001b[1;32m    514\u001b[0m \u001b[43m        \u001b[49m\u001b[43msock\u001b[49m\u001b[38;5;241;43m=\u001b[39;49m\u001b[43msock\u001b[49m\u001b[43m,\u001b[49m\n\u001b[1;32m    515\u001b[0m \u001b[43m        \u001b[49m\u001b[43mserver_side\u001b[49m\u001b[38;5;241;43m=\u001b[39;49m\u001b[43mserver_side\u001b[49m\u001b[43m,\u001b[49m\n\u001b[1;32m    516\u001b[0m \u001b[43m        \u001b[49m\u001b[43mdo_handshake_on_connect\u001b[49m\u001b[38;5;241;43m=\u001b[39;49m\u001b[43mdo_handshake_on_connect\u001b[49m\u001b[43m,\u001b[49m\n\u001b[1;32m    517\u001b[0m \u001b[43m        \u001b[49m\u001b[43msuppress_ragged_eofs\u001b[49m\u001b[38;5;241;43m=\u001b[39;49m\u001b[43msuppress_ragged_eofs\u001b[49m\u001b[43m,\u001b[49m\n\u001b[1;32m    518\u001b[0m \u001b[43m        \u001b[49m\u001b[43mserver_hostname\u001b[49m\u001b[38;5;241;43m=\u001b[39;49m\u001b[43mserver_hostname\u001b[49m\u001b[43m,\u001b[49m\n\u001b[1;32m    519\u001b[0m \u001b[43m        \u001b[49m\u001b[43mcontext\u001b[49m\u001b[38;5;241;43m=\u001b[39;49m\u001b[38;5;28;43mself\u001b[39;49m\u001b[43m,\u001b[49m\n\u001b[1;32m    520\u001b[0m \u001b[43m        \u001b[49m\u001b[43msession\u001b[49m\u001b[38;5;241;43m=\u001b[39;49m\u001b[43msession\u001b[49m\n\u001b[1;32m    521\u001b[0m \u001b[43m    \u001b[49m\u001b[43m)\u001b[49m\n",
      "File \u001b[0;32m/usr/lib/python3.10/ssl.py:1100\u001b[0m, in \u001b[0;36mSSLSocket._create\u001b[0;34m(cls, sock, server_side, do_handshake_on_connect, suppress_ragged_eofs, server_hostname, context, session)\u001b[0m\n\u001b[1;32m   1099\u001b[0m             \u001b[38;5;28;01mraise\u001b[39;00m \u001b[38;5;167;01mValueError\u001b[39;00m(\u001b[38;5;124m\"\u001b[39m\u001b[38;5;124mdo_handshake_on_connect should not be specified for non-blocking sockets\u001b[39m\u001b[38;5;124m\"\u001b[39m)\n\u001b[0;32m-> 1100\u001b[0m         \u001b[38;5;28;43mself\u001b[39;49m\u001b[38;5;241;43m.\u001b[39;49m\u001b[43mdo_handshake\u001b[49m\u001b[43m(\u001b[49m\u001b[43m)\u001b[49m\n\u001b[1;32m   1101\u001b[0m \u001b[38;5;28;01mexcept\u001b[39;00m (\u001b[38;5;167;01mOSError\u001b[39;00m, \u001b[38;5;167;01mValueError\u001b[39;00m):\n",
      "File \u001b[0;32m/usr/lib/python3.10/ssl.py:1371\u001b[0m, in \u001b[0;36mSSLSocket.do_handshake\u001b[0;34m(self, block)\u001b[0m\n\u001b[1;32m   1370\u001b[0m         \u001b[38;5;28mself\u001b[39m\u001b[38;5;241m.\u001b[39msettimeout(\u001b[38;5;28;01mNone\u001b[39;00m)\n\u001b[0;32m-> 1371\u001b[0m     \u001b[38;5;28;43mself\u001b[39;49m\u001b[38;5;241;43m.\u001b[39;49m\u001b[43m_sslobj\u001b[49m\u001b[38;5;241;43m.\u001b[39;49m\u001b[43mdo_handshake\u001b[49m\u001b[43m(\u001b[49m\u001b[43m)\u001b[49m\n\u001b[1;32m   1372\u001b[0m \u001b[38;5;28;01mfinally\u001b[39;00m:\n",
      "\u001b[0;31mProtocolError\u001b[0m: ('Connection aborted.', ConnectionResetError(104, 'Connection reset by peer'))",
      "\nDuring handling of the above exception, another exception occurred:\n",
      "\u001b[0;31mConnectionError\u001b[0m                           Traceback (most recent call last)",
      "Cell \u001b[0;32mIn[50], line 24\u001b[0m\n\u001b[1;32m     20\u001b[0m     \u001b[38;5;28mprint\u001b[39m(response\u001b[38;5;241m.\u001b[39mjson())\n\u001b[1;32m     21\u001b[0m     \u001b[38;5;28;01mreturn\u001b[39;00m response\u001b[38;5;241m.\u001b[39mjson()[\u001b[38;5;124m\"\u001b[39m\u001b[38;5;124mresult\u001b[39m\u001b[38;5;124m\"\u001b[39m][\u001b[38;5;124m'\u001b[39m\u001b[38;5;124mOfficial\u001b[39m\u001b[38;5;124m'\u001b[39m][\u001b[38;5;124m\"\u001b[39m\u001b[38;5;124mosid\u001b[39m\u001b[38;5;124m\"\u001b[39m]\n\u001b[0;32m---> 24\u001b[0m issuerId \u001b[38;5;241m=\u001b[39m \u001b[43mcreateIssuer\u001b[49m\u001b[43m(\u001b[49m\u001b[43m)\u001b[49m\n",
      "Cell \u001b[0;32mIn[50], line 19\u001b[0m, in \u001b[0;36mcreateIssuer\u001b[0;34m()\u001b[0m\n\u001b[1;32m     17\u001b[0m \u001b[38;5;66;03m# Suppress the warnings from urllib3\u001b[39;00m\n\u001b[1;32m     18\u001b[0m requests\u001b[38;5;241m.\u001b[39mpackages\u001b[38;5;241m.\u001b[39murllib3\u001b[38;5;241m.\u001b[39mdisable_warnings(category\u001b[38;5;241m=\u001b[39mInsecureRequestWarning)\n\u001b[0;32m---> 19\u001b[0m response \u001b[38;5;241m=\u001b[39m \u001b[43mrequests\u001b[49m\u001b[38;5;241;43m.\u001b[39;49m\u001b[43mpost\u001b[49m\u001b[43m(\u001b[49m\u001b[38;5;124;43m'\u001b[39;49m\u001b[38;5;132;43;01m%s\u001b[39;49;00m\u001b[38;5;124;43m/api/v1/Official/invite\u001b[39;49m\u001b[38;5;124;43m'\u001b[39;49m\u001b[38;5;241;43m%\u001b[39;49m\u001b[43m(\u001b[49m\u001b[43mbaseUrl\u001b[49m\u001b[43m)\u001b[49m\u001b[43m,\u001b[49m\u001b[43m \u001b[49m\u001b[43mheaders\u001b[49m\u001b[38;5;241;43m=\u001b[39;49m\u001b[43mheaders\u001b[49m\u001b[43m,\u001b[49m\u001b[43m \u001b[49m\u001b[43mdata\u001b[49m\u001b[38;5;241;43m=\u001b[39;49m\u001b[43mpayload\u001b[49m\u001b[43m,\u001b[49m\u001b[43mverify\u001b[49m\u001b[38;5;241;43m=\u001b[39;49m\u001b[38;5;28;43;01mFalse\u001b[39;49;00m\u001b[43m)\u001b[49m\n\u001b[1;32m     20\u001b[0m \u001b[38;5;28mprint\u001b[39m(response\u001b[38;5;241m.\u001b[39mjson())\n\u001b[1;32m     21\u001b[0m \u001b[38;5;28;01mreturn\u001b[39;00m response\u001b[38;5;241m.\u001b[39mjson()[\u001b[38;5;124m\"\u001b[39m\u001b[38;5;124mresult\u001b[39m\u001b[38;5;124m\"\u001b[39m][\u001b[38;5;124m'\u001b[39m\u001b[38;5;124mOfficial\u001b[39m\u001b[38;5;124m'\u001b[39m][\u001b[38;5;124m\"\u001b[39m\u001b[38;5;124mosid\u001b[39m\u001b[38;5;124m\"\u001b[39m]\n",
      "File \u001b[0;32m/usr/lib/python3/dist-packages/requests/api.py:119\u001b[0m, in \u001b[0;36mpost\u001b[0;34m(url, data, json, **kwargs)\u001b[0m\n\u001b[1;32m    107\u001b[0m \u001b[38;5;28;01mdef\u001b[39;00m \u001b[38;5;21mpost\u001b[39m(url, data\u001b[38;5;241m=\u001b[39m\u001b[38;5;28;01mNone\u001b[39;00m, json\u001b[38;5;241m=\u001b[39m\u001b[38;5;28;01mNone\u001b[39;00m, \u001b[38;5;241m*\u001b[39m\u001b[38;5;241m*\u001b[39mkwargs):\n\u001b[1;32m    108\u001b[0m \u001b[38;5;250m    \u001b[39m\u001b[38;5;124mr\u001b[39m\u001b[38;5;124;03m\"\"\"Sends a POST request.\u001b[39;00m\n\u001b[1;32m    109\u001b[0m \n\u001b[1;32m    110\u001b[0m \u001b[38;5;124;03m    :param url: URL for the new :class:`Request` object.\u001b[39;00m\n\u001b[0;32m   (...)\u001b[0m\n\u001b[1;32m    116\u001b[0m \u001b[38;5;124;03m    :rtype: requests.Response\u001b[39;00m\n\u001b[1;32m    117\u001b[0m \u001b[38;5;124;03m    \"\"\"\u001b[39;00m\n\u001b[0;32m--> 119\u001b[0m     \u001b[38;5;28;01mreturn\u001b[39;00m \u001b[43mrequest\u001b[49m\u001b[43m(\u001b[49m\u001b[38;5;124;43m'\u001b[39;49m\u001b[38;5;124;43mpost\u001b[39;49m\u001b[38;5;124;43m'\u001b[39;49m\u001b[43m,\u001b[49m\u001b[43m \u001b[49m\u001b[43murl\u001b[49m\u001b[43m,\u001b[49m\u001b[43m \u001b[49m\u001b[43mdata\u001b[49m\u001b[38;5;241;43m=\u001b[39;49m\u001b[43mdata\u001b[49m\u001b[43m,\u001b[49m\u001b[43m \u001b[49m\u001b[43mjson\u001b[49m\u001b[38;5;241;43m=\u001b[39;49m\u001b[43mjson\u001b[49m\u001b[43m,\u001b[49m\u001b[43m \u001b[49m\u001b[38;5;241;43m*\u001b[39;49m\u001b[38;5;241;43m*\u001b[39;49m\u001b[43mkwargs\u001b[49m\u001b[43m)\u001b[49m\n",
      "File \u001b[0;32m/usr/lib/python3/dist-packages/requests/api.py:61\u001b[0m, in \u001b[0;36mrequest\u001b[0;34m(method, url, **kwargs)\u001b[0m\n\u001b[1;32m     57\u001b[0m \u001b[38;5;66;03m# By using the 'with' statement we are sure the session is closed, thus we\u001b[39;00m\n\u001b[1;32m     58\u001b[0m \u001b[38;5;66;03m# avoid leaving sockets open which can trigger a ResourceWarning in some\u001b[39;00m\n\u001b[1;32m     59\u001b[0m \u001b[38;5;66;03m# cases, and look like a memory leak in others.\u001b[39;00m\n\u001b[1;32m     60\u001b[0m \u001b[38;5;28;01mwith\u001b[39;00m sessions\u001b[38;5;241m.\u001b[39mSession() \u001b[38;5;28;01mas\u001b[39;00m session:\n\u001b[0;32m---> 61\u001b[0m     \u001b[38;5;28;01mreturn\u001b[39;00m \u001b[43msession\u001b[49m\u001b[38;5;241;43m.\u001b[39;49m\u001b[43mrequest\u001b[49m\u001b[43m(\u001b[49m\u001b[43mmethod\u001b[49m\u001b[38;5;241;43m=\u001b[39;49m\u001b[43mmethod\u001b[49m\u001b[43m,\u001b[49m\u001b[43m \u001b[49m\u001b[43murl\u001b[49m\u001b[38;5;241;43m=\u001b[39;49m\u001b[43murl\u001b[49m\u001b[43m,\u001b[49m\u001b[43m \u001b[49m\u001b[38;5;241;43m*\u001b[39;49m\u001b[38;5;241;43m*\u001b[39;49m\u001b[43mkwargs\u001b[49m\u001b[43m)\u001b[49m\n",
      "File \u001b[0;32m/usr/lib/python3/dist-packages/requests/sessions.py:544\u001b[0m, in \u001b[0;36mSession.request\u001b[0;34m(self, method, url, params, data, headers, cookies, files, auth, timeout, allow_redirects, proxies, hooks, stream, verify, cert, json)\u001b[0m\n\u001b[1;32m    539\u001b[0m send_kwargs \u001b[38;5;241m=\u001b[39m {\n\u001b[1;32m    540\u001b[0m     \u001b[38;5;124m'\u001b[39m\u001b[38;5;124mtimeout\u001b[39m\u001b[38;5;124m'\u001b[39m: timeout,\n\u001b[1;32m    541\u001b[0m     \u001b[38;5;124m'\u001b[39m\u001b[38;5;124mallow_redirects\u001b[39m\u001b[38;5;124m'\u001b[39m: allow_redirects,\n\u001b[1;32m    542\u001b[0m }\n\u001b[1;32m    543\u001b[0m send_kwargs\u001b[38;5;241m.\u001b[39mupdate(settings)\n\u001b[0;32m--> 544\u001b[0m resp \u001b[38;5;241m=\u001b[39m \u001b[38;5;28;43mself\u001b[39;49m\u001b[38;5;241;43m.\u001b[39;49m\u001b[43msend\u001b[49m\u001b[43m(\u001b[49m\u001b[43mprep\u001b[49m\u001b[43m,\u001b[49m\u001b[43m \u001b[49m\u001b[38;5;241;43m*\u001b[39;49m\u001b[38;5;241;43m*\u001b[39;49m\u001b[43msend_kwargs\u001b[49m\u001b[43m)\u001b[49m\n\u001b[1;32m    546\u001b[0m \u001b[38;5;28;01mreturn\u001b[39;00m resp\n",
      "File \u001b[0;32m/usr/lib/python3/dist-packages/requests/sessions.py:657\u001b[0m, in \u001b[0;36mSession.send\u001b[0;34m(self, request, **kwargs)\u001b[0m\n\u001b[1;32m    654\u001b[0m start \u001b[38;5;241m=\u001b[39m preferred_clock()\n\u001b[1;32m    656\u001b[0m \u001b[38;5;66;03m# Send the request\u001b[39;00m\n\u001b[0;32m--> 657\u001b[0m r \u001b[38;5;241m=\u001b[39m \u001b[43madapter\u001b[49m\u001b[38;5;241;43m.\u001b[39;49m\u001b[43msend\u001b[49m\u001b[43m(\u001b[49m\u001b[43mrequest\u001b[49m\u001b[43m,\u001b[49m\u001b[43m \u001b[49m\u001b[38;5;241;43m*\u001b[39;49m\u001b[38;5;241;43m*\u001b[39;49m\u001b[43mkwargs\u001b[49m\u001b[43m)\u001b[49m\n\u001b[1;32m    659\u001b[0m \u001b[38;5;66;03m# Total elapsed time of the request (approximately)\u001b[39;00m\n\u001b[1;32m    660\u001b[0m elapsed \u001b[38;5;241m=\u001b[39m preferred_clock() \u001b[38;5;241m-\u001b[39m start\n",
      "File \u001b[0;32m/usr/lib/python3/dist-packages/requests/adapters.py:498\u001b[0m, in \u001b[0;36mHTTPAdapter.send\u001b[0;34m(self, request, stream, timeout, verify, cert, proxies)\u001b[0m\n\u001b[1;32m    495\u001b[0m             \u001b[38;5;28;01mraise\u001b[39;00m\n\u001b[1;32m    497\u001b[0m \u001b[38;5;28;01mexcept\u001b[39;00m (ProtocolError, socket\u001b[38;5;241m.\u001b[39merror) \u001b[38;5;28;01mas\u001b[39;00m err:\n\u001b[0;32m--> 498\u001b[0m     \u001b[38;5;28;01mraise\u001b[39;00m \u001b[38;5;167;01mConnectionError\u001b[39;00m(err, request\u001b[38;5;241m=\u001b[39mrequest)\n\u001b[1;32m    500\u001b[0m \u001b[38;5;28;01mexcept\u001b[39;00m MaxRetryError \u001b[38;5;28;01mas\u001b[39;00m e:\n\u001b[1;32m    501\u001b[0m     \u001b[38;5;28;01mif\u001b[39;00m \u001b[38;5;28misinstance\u001b[39m(e\u001b[38;5;241m.\u001b[39mreason, ConnectTimeoutError):\n\u001b[1;32m    502\u001b[0m         \u001b[38;5;66;03m# TODO: Remove this in 3.0.0: see #2811\u001b[39;00m\n",
      "\u001b[0;31mConnectionError\u001b[0m: ('Connection aborted.', ConnectionResetError(104, 'Connection reset by peer'))"
     ]
    }
   ],
   "source": [
    "#create issuer\n",
    "issuerUserId = \"rto_official_4\"\n",
    "def createIssuer():\n",
    "    payload = json.dumps({\n",
    "      \"name\": \"RTO Karnataka\",\n",
    "      \"accountDetails\": {\n",
    "        \"userId\": issuerUserId\n",
    "      },\n",
    "      \"contactDetails\": {\n",
    "        \"email\": issuerUserId\n",
    "      }\n",
    "    })\n",
    "    headers = {\n",
    "        'Content-Type': 'application/json',\n",
    "        'Authorization': 'Bearer %s'%token\n",
    "    }\n",
    "    # Suppress the warnings from urllib3\n",
    "    requests.packages.urllib3.disable_warnings(category=InsecureRequestWarning)\n",
    "    response = requests.post('%s/api/v1/Official/invite'%(baseUrl), headers=headers, data=payload,verify=False)\n",
    "    print(response.json())\n",
    "    return response.json()[\"result\"]['Official'][\"osid\"]\n",
    "\n",
    "    \n",
    "issuerId = createIssuer()\n",
    "\n"
   ]
  },
  {
   "attachments": {},
   "cell_type": "markdown",
   "id": "77971a95",
   "metadata": {},
   "source": [
    "#### Get Official/Issuer Token"
   ]
  },
  {
   "cell_type": "code",
   "execution_count": 143,
   "id": "2317cbcc",
   "metadata": {},
   "outputs": [
    {
     "name": "stdout",
     "output_type": "stream",
     "text": [
      "eyJhbGciOiJSUzI1NiIsInR5cCIgOiAiSldUIiwia2lkIiA6ICJVQkNsY1Z2NFM0bWw4bkh4WDlnb2tpWUFpck1fSWxEb0c2UDNFaEN6dkZZIn0.eyJleHAiOjE2OTAyNDkwNjQsImlhdCI6MTY5MDI0ODQ2NCwianRpIjoiNTNlNWNjMWItOGE3Yi00YTc3LTlhNGEtMzZmMjU1MTY1NzZhIiwiaXNzIjoiaHR0cDovL2RlbW8tYWRtaW4tcG9ydGFsLnN1bmJpcmRyYy5vY2kvYXV0aC9yZWFsbXMvc3VuYmlyZC1yYyIsImF1ZCI6ImFjY291bnQiLCJzdWIiOiJlMWU4MDU0OC05NGJkLTQ2NjktODhiZS1kY2Q0YTJjMTlhOGYiLCJ0eXAiOiJCZWFyZXIiLCJhenAiOiJyZWdpc3RyeS1mcm9udGVuZCIsInNlc3Npb25fc3RhdGUiOiJmNmI5NzkwNS05ZGIwLTQwZTQtYWI5OS05NjQ5MDBkN2RkZDciLCJhY3IiOiIxIiwiYWxsb3dlZC1vcmlnaW5zIjpbImh0dHBzOi8vbG9jYWxob3N0OjQyMDIiLCJodHRwOi8vbG9jYWxob3N0OjQyMDIiLCJodHRwczovL2xvY2FsaG9zdDo0MjAwIiwiaHR0cHM6Ly9uZGVhci54aXYuaW4iLCJodHRwOi8vZGVtby1hZG1pbi1wb3J0YWwuc3VuYmlyZHJjLm9jaSIsImh0dHA6Ly9sb2NhbGhvc3Q6NDIwMCIsImh0dHA6Ly8yMC4xOTguNjQuMTI4Il0sInJlYWxtX2FjY2VzcyI6eyJyb2xlcyI6WyJPZmZpY2lhbCIsIm9mZmxpbmVfYWNjZXNzIiwiYWRtaW4iLCJ1bWFfYXV0aG9yaXphdGlvbiIsImRlZmF1bHQtcm9sZXMtbmRlYXIiXX0sInJlc291cmNlX2FjY2VzcyI6eyJhY2NvdW50Ijp7InJvbGVzIjpbIm1hbmFnZS1hY2NvdW50IiwibWFuYWdlLWFjY291bnQtbGlua3MiLCJ2aWV3LXByb2ZpbGUiXX19LCJzY29wZSI6InByb2ZpbGUgZW1haWwiLCJlbWFpbF92ZXJpZmllZCI6ZmFsc2UsInByZWZlcnJlZF91c2VybmFtZSI6InJ0b19vZmZpY2lhbF8xIiwiZW50aXR5IjpbIk9mZmljaWFsIl0sImVtYWlsIjoicnRvX29mZmljaWFsXzEifQ.p8fOtjnaFYR8rKdvVaBpqkyZ1Ri0Xcxkcf8UO05SV_-I15wX-nsZ67-najgi2FH6519hW8k6hKY5g5P8e4-w3dTQqHiI3oA4X1o-Mr68t9H6VF-c33oMHSttKXOBcc3iv-6powmQzXJlChuRU93eEQ50KlLUWlYLRK5se3u1nRmW-dmc69sgh_fJCE_3xb89if-uSh3Tqy0SnvjE0hAU0LGFckvuwijrqx_pHaNGNRttlZfI9vSn5mOFPkSgA8g4Lz6xXVHVR9wm7MLqrL_qKtIGDnOVRfL7_i_i_QBeLF2M_JjGC5d75O1vZdEbPvcPde9Fwdz5udMHU8X2NtK-jg\n"
     ]
    }
   ],
   "source": [
    "#get issuer token\n",
    "headers = {\n",
    "    'content-type': 'application/x-www-form-urlencoded',\n",
    "}\n",
    "issuerUserId = \"rto_official_1\"\n",
    "data = {\n",
    "  'client_id': 'registry-frontend',\n",
    "  'username': issuerUserId,\n",
    "  'password': 'abcd@123',\n",
    "  'grant_type': 'password'\n",
    "}\n",
    "\n",
    "response = requests.post('%s/auth/realms/sunbird-rc/protocol/openid-connect/token'%(keycloakUrl), headers=headers, data=data)\n",
    "issuerToken = response.json()[\"access_token\"]\n",
    "print(issuerToken)"
   ]
  },
  {
   "attachments": {},
   "cell_type": "markdown",
   "id": "9ffa5332",
   "metadata": {},
   "source": [
    "#### Get official details"
   ]
  },
  {
   "cell_type": "code",
   "execution_count": 144,
   "id": "798f83d3",
   "metadata": {},
   "outputs": [
    {
     "name": "stdout",
     "output_type": "stream",
     "text": [
      "[{\"osUpdatedAt\":\"2023-07-25T01:27:42.662Z\",\"osCreatedAt\":\"2023-07-25T01:27:42.662Z\",\"osUpdatedBy\":\"\",\"contactDetails\":{\"osid\":\"1-ae21761f-3150-4fa1-aefe-62f996543cd4\",\"osUpdatedAt\":\"2023-07-25T01:27:42.662Z\",\"osCreatedAt\":\"2023-07-25T01:27:42.662Z\",\"osUpdatedBy\":\"\",\"osCreatedBy\":\"\",\"email\":\"rto_official_1\"},\"name\":\"RTO Karnataka\",\"osCreatedBy\":\"\",\"osid\":\"1-2a895d6c-90c1-4d18-ba83-2a60a1e9cfba\",\"accountDetails\":{\"osid\":\"1-78dd75d4-a978-4d8c-a3d7-e75116328632\",\"osUpdatedAt\":\"2023-07-25T01:27:42.662Z\",\"osCreatedAt\":\"2023-07-25T01:27:42.662Z\",\"osUpdatedBy\":\"\",\"osCreatedBy\":\"\",\"userId\":\"rto_official_1\"},\"osOwner\":[\"e1e80548-94bd-4669-88be-dcd4a2c19a8f\"]}]\n",
      "1-2a895d6c-90c1-4d18-ba83-2a60a1e9cfba\n"
     ]
    }
   ],
   "source": [
    "headers = {\n",
    "  'Content-Type': 'application/json',\n",
    "    'Authorization': 'bearer %s'%issuerToken\n",
    "}\n",
    "\n",
    "response = requests.request(\"GET\", apibaseUrl + \"Official\", headers=headers)\n",
    "\n",
    "print(response.text)\n",
    "issuerId = response.json()[0][\"osid\"]\n",
    "print(issuerId)\n",
    "assert response.status_code == 200"
   ]
  },
  {
   "attachments": {},
   "cell_type": "markdown",
   "id": "620e9a69",
   "metadata": {},
   "source": [
    "#### Upload Certificate Template"
   ]
  },
  {
   "cell_type": "code",
   "execution_count": 145,
   "id": "3fb76f0c",
   "metadata": {},
   "outputs": [
    {
     "name": "stdout",
     "output_type": "stream",
     "text": [
      "{\n",
      "    \"documentLocations\": [\n",
      "        \"Official/1-2a895d6c-90c1-4d18-ba83-2a60a1e9cfba/templates/documents/05332fbd-e268-4a72-b0d8-e95d6e839bd2-registrationcertificate.svg\"\n",
      "    ],\n",
      "    \"errors\": []\n",
      "}\n"
     ]
    }
   ],
   "source": [
    "def uploadTemplate(entityName, entityId):\n",
    "    payload = {}\n",
    "    files=[\n",
    "      ('files',('registrationcertificate.svg',open('./schema_templates/registrationcertificate.svg','rb'),'image/svg+xml'))\n",
    "    ]\n",
    "    headers = {\n",
    "        'Authorization': 'Bearer %s'%issuerToken\n",
    "    }\n",
    "    response = requests.post('%s/api/v1/%s/%s/templates/documents'%(baseUrl, entityName, entityId), headers=headers, data=payload, files=files)\n",
    "    print(json.dumps(response.json(), indent=4))\n",
    "    return response.json()['documentLocations'][0]\n",
    "templateUrl = uploadTemplate('Official', issuerId)"
   ]
  },
  {
   "cell_type": "code",
   "execution_count": 146,
   "id": "fca835ab",
   "metadata": {},
   "outputs": [
    {
     "name": "stdout",
     "output_type": "stream",
     "text": [
      "Official/1-2a895d6c-90c1-4d18-ba83-2a60a1e9cfba/templates/documents/05332fbd-e268-4a72-b0d8-e95d6e839bd2-registrationcertificate.svg\n"
     ]
    }
   ],
   "source": [
    "# Show template url\n",
    "print(templateUrl)"
   ]
  },
  {
   "cell_type": "code",
   "execution_count": 147,
   "id": "c735327a",
   "metadata": {},
   "outputs": [],
   "source": [
    "schemaName = \"VehicleCertificate\"\n",
    "def getSchemaBody(templateUrl):\n",
    "    return {\n",
    "      \"name\": schemaName,\n",
    "      \"schema\": \"{\\\"$schema\\\":\\\"http://json-schema.org/draft-07/schema\\\",\\\"type\\\":\\\"object\\\",\\\"properties\\\":{\\\"VehicleCertificate\\\":{\\\"$ref\\\":\\\"#/definitions/VehicleCertificate\\\"}},\\\"required\\\":[\\\"VehicleCertificate\\\"],\\\"title\\\":\\\"VehicleCertificate\\\",\\\"definitions\\\":{\\\"VehicleCertificate\\\":{\\\"$id\\\":\\\"#/properties/VehicleCertificate\\\",\\\"type\\\":\\\"object\\\",\\\"title\\\":\\\"The VehicleCertificate Schema\\\",\\\"required\\\":[\\\"regnumber\\\",\\\"mnfyear\\\",\\\"dateofaward\\\",\\\"nameofScheme\\\",\\\"name\\\"],\\\"properties\\\":{\\\"name\\\":{\\\"type\\\":\\\"string\\\",\\\"title\\\":\\\"Name\\\"},\\\"dateofaward\\\":{\\\"type\\\":\\\"string\\\",\\\"title\\\":\\\"Date Of Award\\\",\\\"format\\\":\\\"date\\\"},\\\"nameofScheme\\\":{\\\"type\\\":\\\"string\\\",\\\"title\\\":\\\"Name of Scheme\\\"},\\\"regnumber\\\":{\\\"type\\\":\\\"string\\\",\\\"title\\\":\\\"Vehicle Registration Number\\\"},\\\"mnfyear\\\":{\\\"type\\\":\\\"string\\\",\\\"title\\\":\\\"Manufacturing year\\\"}}}},\\\"_osConfig\\\":{\\\"uniqueIndexFields\\\":[],\\\"privateFields\\\":[],\\\"privateFieldConfig\\\":\\\"HASH\\\",\\\"internalFieldConfig\\\":\\\"FULL\\\",\\\"systemFields\\\":[\\\"osCreatedAt\\\",\\\"osUpdatedAt\\\",\\\"osCreatedBy\\\",\\\"osUpdatedBy\\\"],\\\"roles\\\":[\\\"Official\\\"],\\\"inviteRoles\\\":[\\\"anonymous\\\"],\\\"credentialTemplate\\\":{\\\"@context\\\":[\\\"https://www.w3.org/2018/credentials/v1\\\",\\\"https://gist.githubusercontent.com/ddevadat/4bb88499cf374f7ba8d1c9138f52eb67/raw/7c62ff3d2af28e1abc6dfcc2c95b89a97c029554/vehiclecertificate_ct.json\\\"],\\\"type\\\":[\\\"VerifiableCredential\\\"],\\\"issuanceDate\\\":\\\"{{osCreatedAt}}\\\",\\\"credentialSubject\\\":{\\\"type\\\":\\\"Vehicle\\\",\\\"name\\\":\\\"{{name}}\\\",\\\"mnfyear\\\":\\\"{{mnfyear}}\\\",\\\"regnumber\\\":\\\"{{regnumber}}\\\"},\\\"evidence\\\":{\\\"type\\\":\\\"Registration\\\",\\\"nameofScheme\\\":\\\"{{nameofScheme}}\\\",\\\"dateofaward\\\":\\\"{{dateofaward}}\\\"},\\\"issuer\\\":\\\"did:web:sunbirdrc.dev/vc/Official\\\"},\\\"certificateTemplates\\\":{\\\"html\\\":\\\"minio://%s\\\"}}}\"%(templateUrl),\n",
    "      \"status\": \"PUBLISHED\"\n",
    "    }"
   ]
  },
  {
   "attachments": {},
   "cell_type": "markdown",
   "id": "da06a248",
   "metadata": {},
   "source": [
    "#### Create the VC schema"
   ]
  },
  {
   "cell_type": "code",
   "execution_count": 148,
   "id": "6d7e8829",
   "metadata": {},
   "outputs": [
    {
     "name": "stdout",
     "output_type": "stream",
     "text": [
      "200\n",
      "{'id': 'sunbird-rc.registry.create', 'ver': '1.0', 'ets': 1690248477702, 'params': {'resmsgid': '', 'msgid': '1d8a93ae-fdc6-4b60-b037-31c57711facd', 'err': '', 'status': 'SUCCESSFUL', 'errmsg': ''}, 'responseCode': 'OK', 'result': {'Schema': {'osid': '1-91365520-4594-4b2f-a03e-fb09c48f671e'}}}\n",
      "1-91365520-4594-4b2f-a03e-fb09c48f671e\n"
     ]
    }
   ],
   "source": [
    "# create a schema\n",
    "headers = {\n",
    "    'Content-Type': 'application/json',\n",
    "    'Authorization': 'Bearer %s'%issuerToken, \n",
    "}\n",
    "entity_name = 'Schema'\n",
    "data = getSchemaBody(templateUrl)\n",
    "response = requests.post('%s/api/v1/%s'%(baseUrl, entity_name), headers=headers, json=data)\n",
    "print(response.status_code)\n",
    "print(response.json())\n",
    "schemaOsid = response.json()[\"result\"]['Schema'][\"osid\"]\n",
    "print(schemaOsid)"
   ]
  },
  {
   "attachments": {},
   "cell_type": "markdown",
   "id": "4a5e30b4",
   "metadata": {},
   "source": [
    "#### Onboard Citizen 1"
   ]
  },
  {
   "cell_type": "code",
   "execution_count": 58,
   "id": "a7473344",
   "metadata": {},
   "outputs": [
    {
     "name": "stdout",
     "output_type": "stream",
     "text": [
      "{\"id\":\"sunbird-rc.registry.invite\",\"ver\":\"1.0\",\"ets\":1710288838857,\"params\":{\"resmsgid\":\"\",\"msgid\":\"412c433a-3117-4914-9c57-a5404c63ba7d\",\"err\":\"\",\"status\":\"SUCCESSFUL\",\"errmsg\":\"\"},\"responseCode\":\"OK\",\"result\":{\"CitizenV2\":{\"osid\":\"1-5948a572-986c-451a-aca8-a231a6eb7091\"}}}\n"
     ]
    }
   ],
   "source": [
    "### Code for inviting citizen\n",
    "\n",
    "citizenUserId = \"zcrawley@gmail.com\"\n",
    "citizenRequestBody = {\n",
    "    \"name\": \"Zak Crawley\",\n",
    "    \"email\": citizenUserId,\n",
    "    \"dob\": \"2000-10-10\",\n",
    "    \"gender\": \"Male\"\n",
    "}\n",
    "\n",
    "headers = {\n",
    "  'Content-Type': 'application/json'\n",
    "}\n",
    "# Suppress the warnings from urllib3\n",
    "requests.packages.urllib3.disable_warnings(category=InsecureRequestWarning)\n",
    "response = requests.request(\"POST\", apibaseUrl + \"CitizenV2/invite\", headers=headers, json=citizenRequestBody,verify=False)\n",
    "\n",
    "print(response.text)\n",
    "assert response.status_code == 200"
   ]
  },
  {
   "attachments": {},
   "cell_type": "markdown",
   "id": "a7ae1963",
   "metadata": {},
   "source": [
    "#### Get Citizen1 Token"
   ]
  },
  {
   "cell_type": "code",
   "execution_count": 59,
   "id": "0d7d6183",
   "metadata": {},
   "outputs": [],
   "source": [
    "citizenUserId = \"zcrawley@gmail.com\""
   ]
  },
  {
   "cell_type": "code",
   "execution_count": 61,
   "id": "fbc8dd46",
   "metadata": {},
   "outputs": [
    {
     "ename": "ConnectionError",
     "evalue": "('Connection aborted.', ConnectionResetError(104, 'Connection reset by peer'))",
     "output_type": "error",
     "traceback": [
      "\u001b[0;31m---------------------------------------------------------------------------\u001b[0m",
      "\u001b[0;31mConnectionResetError\u001b[0m                      Traceback (most recent call last)",
      "File \u001b[0;32m/usr/lib/python3/dist-packages/urllib3/connectionpool.py:700\u001b[0m, in \u001b[0;36mHTTPConnectionPool.urlopen\u001b[0;34m(self, method, url, body, headers, retries, redirect, assert_same_host, timeout, pool_timeout, release_conn, chunked, body_pos, **response_kw)\u001b[0m\n\u001b[1;32m    699\u001b[0m \u001b[38;5;66;03m# Make the request on the httplib connection object.\u001b[39;00m\n\u001b[0;32m--> 700\u001b[0m httplib_response \u001b[38;5;241m=\u001b[39m \u001b[38;5;28;43mself\u001b[39;49m\u001b[38;5;241;43m.\u001b[39;49m\u001b[43m_make_request\u001b[49m\u001b[43m(\u001b[49m\n\u001b[1;32m    701\u001b[0m \u001b[43m    \u001b[49m\u001b[43mconn\u001b[49m\u001b[43m,\u001b[49m\n\u001b[1;32m    702\u001b[0m \u001b[43m    \u001b[49m\u001b[43mmethod\u001b[49m\u001b[43m,\u001b[49m\n\u001b[1;32m    703\u001b[0m \u001b[43m    \u001b[49m\u001b[43murl\u001b[49m\u001b[43m,\u001b[49m\n\u001b[1;32m    704\u001b[0m \u001b[43m    \u001b[49m\u001b[43mtimeout\u001b[49m\u001b[38;5;241;43m=\u001b[39;49m\u001b[43mtimeout_obj\u001b[49m\u001b[43m,\u001b[49m\n\u001b[1;32m    705\u001b[0m \u001b[43m    \u001b[49m\u001b[43mbody\u001b[49m\u001b[38;5;241;43m=\u001b[39;49m\u001b[43mbody\u001b[49m\u001b[43m,\u001b[49m\n\u001b[1;32m    706\u001b[0m \u001b[43m    \u001b[49m\u001b[43mheaders\u001b[49m\u001b[38;5;241;43m=\u001b[39;49m\u001b[43mheaders\u001b[49m\u001b[43m,\u001b[49m\n\u001b[1;32m    707\u001b[0m \u001b[43m    \u001b[49m\u001b[43mchunked\u001b[49m\u001b[38;5;241;43m=\u001b[39;49m\u001b[43mchunked\u001b[49m\u001b[43m,\u001b[49m\n\u001b[1;32m    708\u001b[0m \u001b[43m\u001b[49m\u001b[43m)\u001b[49m\n\u001b[1;32m    710\u001b[0m \u001b[38;5;66;03m# If we're going to release the connection in ``finally:``, then\u001b[39;00m\n\u001b[1;32m    711\u001b[0m \u001b[38;5;66;03m# the response doesn't need to know about the connection. Otherwise\u001b[39;00m\n\u001b[1;32m    712\u001b[0m \u001b[38;5;66;03m# it will also try to release it and we'll have a double-release\u001b[39;00m\n\u001b[1;32m    713\u001b[0m \u001b[38;5;66;03m# mess.\u001b[39;00m\n",
      "File \u001b[0;32m/usr/lib/python3/dist-packages/urllib3/connectionpool.py:383\u001b[0m, in \u001b[0;36mHTTPConnectionPool._make_request\u001b[0;34m(self, conn, method, url, timeout, chunked, **httplib_request_kw)\u001b[0m\n\u001b[1;32m    382\u001b[0m \u001b[38;5;28;01mtry\u001b[39;00m:\n\u001b[0;32m--> 383\u001b[0m     \u001b[38;5;28;43mself\u001b[39;49m\u001b[38;5;241;43m.\u001b[39;49m\u001b[43m_validate_conn\u001b[49m\u001b[43m(\u001b[49m\u001b[43mconn\u001b[49m\u001b[43m)\u001b[49m\n\u001b[1;32m    384\u001b[0m \u001b[38;5;28;01mexcept\u001b[39;00m (SocketTimeout, BaseSSLError) \u001b[38;5;28;01mas\u001b[39;00m e:\n\u001b[1;32m    385\u001b[0m     \u001b[38;5;66;03m# Py2 raises this as a BaseSSLError, Py3 raises it as socket timeout.\u001b[39;00m\n",
      "File \u001b[0;32m/usr/lib/python3/dist-packages/urllib3/connectionpool.py:1017\u001b[0m, in \u001b[0;36mHTTPSConnectionPool._validate_conn\u001b[0;34m(self, conn)\u001b[0m\n\u001b[1;32m   1016\u001b[0m \u001b[38;5;28;01mif\u001b[39;00m \u001b[38;5;129;01mnot\u001b[39;00m \u001b[38;5;28mgetattr\u001b[39m(conn, \u001b[38;5;124m\"\u001b[39m\u001b[38;5;124msock\u001b[39m\u001b[38;5;124m\"\u001b[39m, \u001b[38;5;28;01mNone\u001b[39;00m):  \u001b[38;5;66;03m# AppEngine might not have  `.sock`\u001b[39;00m\n\u001b[0;32m-> 1017\u001b[0m     \u001b[43mconn\u001b[49m\u001b[38;5;241;43m.\u001b[39;49m\u001b[43mconnect\u001b[49m\u001b[43m(\u001b[49m\u001b[43m)\u001b[49m\n\u001b[1;32m   1019\u001b[0m \u001b[38;5;28;01mif\u001b[39;00m \u001b[38;5;129;01mnot\u001b[39;00m conn\u001b[38;5;241m.\u001b[39mis_verified:\n",
      "File \u001b[0;32m/usr/lib/python3/dist-packages/urllib3/connection.py:411\u001b[0m, in \u001b[0;36mHTTPSConnection.connect\u001b[0;34m(self)\u001b[0m\n\u001b[1;32m    409\u001b[0m     context\u001b[38;5;241m.\u001b[39mload_default_certs()\n\u001b[0;32m--> 411\u001b[0m \u001b[38;5;28mself\u001b[39m\u001b[38;5;241m.\u001b[39msock \u001b[38;5;241m=\u001b[39m \u001b[43mssl_wrap_socket\u001b[49m\u001b[43m(\u001b[49m\n\u001b[1;32m    412\u001b[0m \u001b[43m    \u001b[49m\u001b[43msock\u001b[49m\u001b[38;5;241;43m=\u001b[39;49m\u001b[43mconn\u001b[49m\u001b[43m,\u001b[49m\n\u001b[1;32m    413\u001b[0m \u001b[43m    \u001b[49m\u001b[43mkeyfile\u001b[49m\u001b[38;5;241;43m=\u001b[39;49m\u001b[38;5;28;43mself\u001b[39;49m\u001b[38;5;241;43m.\u001b[39;49m\u001b[43mkey_file\u001b[49m\u001b[43m,\u001b[49m\n\u001b[1;32m    414\u001b[0m \u001b[43m    \u001b[49m\u001b[43mcertfile\u001b[49m\u001b[38;5;241;43m=\u001b[39;49m\u001b[38;5;28;43mself\u001b[39;49m\u001b[38;5;241;43m.\u001b[39;49m\u001b[43mcert_file\u001b[49m\u001b[43m,\u001b[49m\n\u001b[1;32m    415\u001b[0m \u001b[43m    \u001b[49m\u001b[43mkey_password\u001b[49m\u001b[38;5;241;43m=\u001b[39;49m\u001b[38;5;28;43mself\u001b[39;49m\u001b[38;5;241;43m.\u001b[39;49m\u001b[43mkey_password\u001b[49m\u001b[43m,\u001b[49m\n\u001b[1;32m    416\u001b[0m \u001b[43m    \u001b[49m\u001b[43mca_certs\u001b[49m\u001b[38;5;241;43m=\u001b[39;49m\u001b[38;5;28;43mself\u001b[39;49m\u001b[38;5;241;43m.\u001b[39;49m\u001b[43mca_certs\u001b[49m\u001b[43m,\u001b[49m\n\u001b[1;32m    417\u001b[0m \u001b[43m    \u001b[49m\u001b[43mca_cert_dir\u001b[49m\u001b[38;5;241;43m=\u001b[39;49m\u001b[38;5;28;43mself\u001b[39;49m\u001b[38;5;241;43m.\u001b[39;49m\u001b[43mca_cert_dir\u001b[49m\u001b[43m,\u001b[49m\n\u001b[1;32m    418\u001b[0m \u001b[43m    \u001b[49m\u001b[43mca_cert_data\u001b[49m\u001b[38;5;241;43m=\u001b[39;49m\u001b[38;5;28;43mself\u001b[39;49m\u001b[38;5;241;43m.\u001b[39;49m\u001b[43mca_cert_data\u001b[49m\u001b[43m,\u001b[49m\n\u001b[1;32m    419\u001b[0m \u001b[43m    \u001b[49m\u001b[43mserver_hostname\u001b[49m\u001b[38;5;241;43m=\u001b[39;49m\u001b[43mserver_hostname\u001b[49m\u001b[43m,\u001b[49m\n\u001b[1;32m    420\u001b[0m \u001b[43m    \u001b[49m\u001b[43mssl_context\u001b[49m\u001b[38;5;241;43m=\u001b[39;49m\u001b[43mcontext\u001b[49m\u001b[43m,\u001b[49m\n\u001b[1;32m    421\u001b[0m \u001b[43m    \u001b[49m\u001b[43mtls_in_tls\u001b[49m\u001b[38;5;241;43m=\u001b[39;49m\u001b[43mtls_in_tls\u001b[49m\u001b[43m,\u001b[49m\n\u001b[1;32m    422\u001b[0m \u001b[43m\u001b[49m\u001b[43m)\u001b[49m\n\u001b[1;32m    424\u001b[0m \u001b[38;5;66;03m# If we're using all defaults and the connection\u001b[39;00m\n\u001b[1;32m    425\u001b[0m \u001b[38;5;66;03m# is TLSv1 or TLSv1.1 we throw a DeprecationWarning\u001b[39;00m\n\u001b[1;32m    426\u001b[0m \u001b[38;5;66;03m# for the host.\u001b[39;00m\n",
      "File \u001b[0;32m/usr/lib/python3/dist-packages/urllib3/util/ssl_.py:449\u001b[0m, in \u001b[0;36mssl_wrap_socket\u001b[0;34m(sock, keyfile, certfile, cert_reqs, ca_certs, server_hostname, ssl_version, ciphers, ssl_context, ca_cert_dir, key_password, ca_cert_data, tls_in_tls)\u001b[0m\n\u001b[1;32m    448\u001b[0m \u001b[38;5;28;01mif\u001b[39;00m send_sni:\n\u001b[0;32m--> 449\u001b[0m     ssl_sock \u001b[38;5;241m=\u001b[39m \u001b[43m_ssl_wrap_socket_impl\u001b[49m\u001b[43m(\u001b[49m\n\u001b[1;32m    450\u001b[0m \u001b[43m        \u001b[49m\u001b[43msock\u001b[49m\u001b[43m,\u001b[49m\u001b[43m \u001b[49m\u001b[43mcontext\u001b[49m\u001b[43m,\u001b[49m\u001b[43m \u001b[49m\u001b[43mtls_in_tls\u001b[49m\u001b[43m,\u001b[49m\u001b[43m \u001b[49m\u001b[43mserver_hostname\u001b[49m\u001b[38;5;241;43m=\u001b[39;49m\u001b[43mserver_hostname\u001b[49m\n\u001b[1;32m    451\u001b[0m \u001b[43m    \u001b[49m\u001b[43m)\u001b[49m\n\u001b[1;32m    452\u001b[0m \u001b[38;5;28;01melse\u001b[39;00m:\n",
      "File \u001b[0;32m/usr/lib/python3/dist-packages/urllib3/util/ssl_.py:493\u001b[0m, in \u001b[0;36m_ssl_wrap_socket_impl\u001b[0;34m(sock, ssl_context, tls_in_tls, server_hostname)\u001b[0m\n\u001b[1;32m    492\u001b[0m \u001b[38;5;28;01mif\u001b[39;00m server_hostname:\n\u001b[0;32m--> 493\u001b[0m     \u001b[38;5;28;01mreturn\u001b[39;00m \u001b[43mssl_context\u001b[49m\u001b[38;5;241;43m.\u001b[39;49m\u001b[43mwrap_socket\u001b[49m\u001b[43m(\u001b[49m\u001b[43msock\u001b[49m\u001b[43m,\u001b[49m\u001b[43m \u001b[49m\u001b[43mserver_hostname\u001b[49m\u001b[38;5;241;43m=\u001b[39;49m\u001b[43mserver_hostname\u001b[49m\u001b[43m)\u001b[49m\n\u001b[1;32m    494\u001b[0m \u001b[38;5;28;01melse\u001b[39;00m:\n",
      "File \u001b[0;32m/usr/lib/python3.10/ssl.py:513\u001b[0m, in \u001b[0;36mSSLContext.wrap_socket\u001b[0;34m(self, sock, server_side, do_handshake_on_connect, suppress_ragged_eofs, server_hostname, session)\u001b[0m\n\u001b[1;32m    507\u001b[0m \u001b[38;5;28;01mdef\u001b[39;00m \u001b[38;5;21mwrap_socket\u001b[39m(\u001b[38;5;28mself\u001b[39m, sock, server_side\u001b[38;5;241m=\u001b[39m\u001b[38;5;28;01mFalse\u001b[39;00m,\n\u001b[1;32m    508\u001b[0m                 do_handshake_on_connect\u001b[38;5;241m=\u001b[39m\u001b[38;5;28;01mTrue\u001b[39;00m,\n\u001b[1;32m    509\u001b[0m                 suppress_ragged_eofs\u001b[38;5;241m=\u001b[39m\u001b[38;5;28;01mTrue\u001b[39;00m,\n\u001b[1;32m    510\u001b[0m                 server_hostname\u001b[38;5;241m=\u001b[39m\u001b[38;5;28;01mNone\u001b[39;00m, session\u001b[38;5;241m=\u001b[39m\u001b[38;5;28;01mNone\u001b[39;00m):\n\u001b[1;32m    511\u001b[0m     \u001b[38;5;66;03m# SSLSocket class handles server_hostname encoding before it calls\u001b[39;00m\n\u001b[1;32m    512\u001b[0m     \u001b[38;5;66;03m# ctx._wrap_socket()\u001b[39;00m\n\u001b[0;32m--> 513\u001b[0m     \u001b[38;5;28;01mreturn\u001b[39;00m \u001b[38;5;28;43mself\u001b[39;49m\u001b[38;5;241;43m.\u001b[39;49m\u001b[43msslsocket_class\u001b[49m\u001b[38;5;241;43m.\u001b[39;49m\u001b[43m_create\u001b[49m\u001b[43m(\u001b[49m\n\u001b[1;32m    514\u001b[0m \u001b[43m        \u001b[49m\u001b[43msock\u001b[49m\u001b[38;5;241;43m=\u001b[39;49m\u001b[43msock\u001b[49m\u001b[43m,\u001b[49m\n\u001b[1;32m    515\u001b[0m \u001b[43m        \u001b[49m\u001b[43mserver_side\u001b[49m\u001b[38;5;241;43m=\u001b[39;49m\u001b[43mserver_side\u001b[49m\u001b[43m,\u001b[49m\n\u001b[1;32m    516\u001b[0m \u001b[43m        \u001b[49m\u001b[43mdo_handshake_on_connect\u001b[49m\u001b[38;5;241;43m=\u001b[39;49m\u001b[43mdo_handshake_on_connect\u001b[49m\u001b[43m,\u001b[49m\n\u001b[1;32m    517\u001b[0m \u001b[43m        \u001b[49m\u001b[43msuppress_ragged_eofs\u001b[49m\u001b[38;5;241;43m=\u001b[39;49m\u001b[43msuppress_ragged_eofs\u001b[49m\u001b[43m,\u001b[49m\n\u001b[1;32m    518\u001b[0m \u001b[43m        \u001b[49m\u001b[43mserver_hostname\u001b[49m\u001b[38;5;241;43m=\u001b[39;49m\u001b[43mserver_hostname\u001b[49m\u001b[43m,\u001b[49m\n\u001b[1;32m    519\u001b[0m \u001b[43m        \u001b[49m\u001b[43mcontext\u001b[49m\u001b[38;5;241;43m=\u001b[39;49m\u001b[38;5;28;43mself\u001b[39;49m\u001b[43m,\u001b[49m\n\u001b[1;32m    520\u001b[0m \u001b[43m        \u001b[49m\u001b[43msession\u001b[49m\u001b[38;5;241;43m=\u001b[39;49m\u001b[43msession\u001b[49m\n\u001b[1;32m    521\u001b[0m \u001b[43m    \u001b[49m\u001b[43m)\u001b[49m\n",
      "File \u001b[0;32m/usr/lib/python3.10/ssl.py:1100\u001b[0m, in \u001b[0;36mSSLSocket._create\u001b[0;34m(cls, sock, server_side, do_handshake_on_connect, suppress_ragged_eofs, server_hostname, context, session)\u001b[0m\n\u001b[1;32m   1099\u001b[0m             \u001b[38;5;28;01mraise\u001b[39;00m \u001b[38;5;167;01mValueError\u001b[39;00m(\u001b[38;5;124m\"\u001b[39m\u001b[38;5;124mdo_handshake_on_connect should not be specified for non-blocking sockets\u001b[39m\u001b[38;5;124m\"\u001b[39m)\n\u001b[0;32m-> 1100\u001b[0m         \u001b[38;5;28;43mself\u001b[39;49m\u001b[38;5;241;43m.\u001b[39;49m\u001b[43mdo_handshake\u001b[49m\u001b[43m(\u001b[49m\u001b[43m)\u001b[49m\n\u001b[1;32m   1101\u001b[0m \u001b[38;5;28;01mexcept\u001b[39;00m (\u001b[38;5;167;01mOSError\u001b[39;00m, \u001b[38;5;167;01mValueError\u001b[39;00m):\n",
      "File \u001b[0;32m/usr/lib/python3.10/ssl.py:1371\u001b[0m, in \u001b[0;36mSSLSocket.do_handshake\u001b[0;34m(self, block)\u001b[0m\n\u001b[1;32m   1370\u001b[0m         \u001b[38;5;28mself\u001b[39m\u001b[38;5;241m.\u001b[39msettimeout(\u001b[38;5;28;01mNone\u001b[39;00m)\n\u001b[0;32m-> 1371\u001b[0m     \u001b[38;5;28;43mself\u001b[39;49m\u001b[38;5;241;43m.\u001b[39;49m\u001b[43m_sslobj\u001b[49m\u001b[38;5;241;43m.\u001b[39;49m\u001b[43mdo_handshake\u001b[49m\u001b[43m(\u001b[49m\u001b[43m)\u001b[49m\n\u001b[1;32m   1372\u001b[0m \u001b[38;5;28;01mfinally\u001b[39;00m:\n",
      "\u001b[0;31mConnectionResetError\u001b[0m: [Errno 104] Connection reset by peer",
      "\nDuring handling of the above exception, another exception occurred:\n",
      "\u001b[0;31mProtocolError\u001b[0m                             Traceback (most recent call last)",
      "File \u001b[0;32m/usr/lib/python3/dist-packages/requests/adapters.py:439\u001b[0m, in \u001b[0;36mHTTPAdapter.send\u001b[0;34m(self, request, stream, timeout, verify, cert, proxies)\u001b[0m\n\u001b[1;32m    438\u001b[0m \u001b[38;5;28;01mif\u001b[39;00m \u001b[38;5;129;01mnot\u001b[39;00m chunked:\n\u001b[0;32m--> 439\u001b[0m     resp \u001b[38;5;241m=\u001b[39m \u001b[43mconn\u001b[49m\u001b[38;5;241;43m.\u001b[39;49m\u001b[43murlopen\u001b[49m\u001b[43m(\u001b[49m\n\u001b[1;32m    440\u001b[0m \u001b[43m        \u001b[49m\u001b[43mmethod\u001b[49m\u001b[38;5;241;43m=\u001b[39;49m\u001b[43mrequest\u001b[49m\u001b[38;5;241;43m.\u001b[39;49m\u001b[43mmethod\u001b[49m\u001b[43m,\u001b[49m\n\u001b[1;32m    441\u001b[0m \u001b[43m        \u001b[49m\u001b[43murl\u001b[49m\u001b[38;5;241;43m=\u001b[39;49m\u001b[43murl\u001b[49m\u001b[43m,\u001b[49m\n\u001b[1;32m    442\u001b[0m \u001b[43m        \u001b[49m\u001b[43mbody\u001b[49m\u001b[38;5;241;43m=\u001b[39;49m\u001b[43mrequest\u001b[49m\u001b[38;5;241;43m.\u001b[39;49m\u001b[43mbody\u001b[49m\u001b[43m,\u001b[49m\n\u001b[1;32m    443\u001b[0m \u001b[43m        \u001b[49m\u001b[43mheaders\u001b[49m\u001b[38;5;241;43m=\u001b[39;49m\u001b[43mrequest\u001b[49m\u001b[38;5;241;43m.\u001b[39;49m\u001b[43mheaders\u001b[49m\u001b[43m,\u001b[49m\n\u001b[1;32m    444\u001b[0m \u001b[43m        \u001b[49m\u001b[43mredirect\u001b[49m\u001b[38;5;241;43m=\u001b[39;49m\u001b[38;5;28;43;01mFalse\u001b[39;49;00m\u001b[43m,\u001b[49m\n\u001b[1;32m    445\u001b[0m \u001b[43m        \u001b[49m\u001b[43massert_same_host\u001b[49m\u001b[38;5;241;43m=\u001b[39;49m\u001b[38;5;28;43;01mFalse\u001b[39;49;00m\u001b[43m,\u001b[49m\n\u001b[1;32m    446\u001b[0m \u001b[43m        \u001b[49m\u001b[43mpreload_content\u001b[49m\u001b[38;5;241;43m=\u001b[39;49m\u001b[38;5;28;43;01mFalse\u001b[39;49;00m\u001b[43m,\u001b[49m\n\u001b[1;32m    447\u001b[0m \u001b[43m        \u001b[49m\u001b[43mdecode_content\u001b[49m\u001b[38;5;241;43m=\u001b[39;49m\u001b[38;5;28;43;01mFalse\u001b[39;49;00m\u001b[43m,\u001b[49m\n\u001b[1;32m    448\u001b[0m \u001b[43m        \u001b[49m\u001b[43mretries\u001b[49m\u001b[38;5;241;43m=\u001b[39;49m\u001b[38;5;28;43mself\u001b[39;49m\u001b[38;5;241;43m.\u001b[39;49m\u001b[43mmax_retries\u001b[49m\u001b[43m,\u001b[49m\n\u001b[1;32m    449\u001b[0m \u001b[43m        \u001b[49m\u001b[43mtimeout\u001b[49m\u001b[38;5;241;43m=\u001b[39;49m\u001b[43mtimeout\u001b[49m\n\u001b[1;32m    450\u001b[0m \u001b[43m    \u001b[49m\u001b[43m)\u001b[49m\n\u001b[1;32m    452\u001b[0m \u001b[38;5;66;03m# Send the request.\u001b[39;00m\n\u001b[1;32m    453\u001b[0m \u001b[38;5;28;01melse\u001b[39;00m:\n",
      "File \u001b[0;32m/usr/lib/python3/dist-packages/urllib3/connectionpool.py:756\u001b[0m, in \u001b[0;36mHTTPConnectionPool.urlopen\u001b[0;34m(self, method, url, body, headers, retries, redirect, assert_same_host, timeout, pool_timeout, release_conn, chunked, body_pos, **response_kw)\u001b[0m\n\u001b[1;32m    754\u001b[0m     e \u001b[38;5;241m=\u001b[39m ProtocolError(\u001b[38;5;124m\"\u001b[39m\u001b[38;5;124mConnection aborted.\u001b[39m\u001b[38;5;124m\"\u001b[39m, e)\n\u001b[0;32m--> 756\u001b[0m retries \u001b[38;5;241m=\u001b[39m \u001b[43mretries\u001b[49m\u001b[38;5;241;43m.\u001b[39;49m\u001b[43mincrement\u001b[49m\u001b[43m(\u001b[49m\n\u001b[1;32m    757\u001b[0m \u001b[43m    \u001b[49m\u001b[43mmethod\u001b[49m\u001b[43m,\u001b[49m\u001b[43m \u001b[49m\u001b[43murl\u001b[49m\u001b[43m,\u001b[49m\u001b[43m \u001b[49m\u001b[43merror\u001b[49m\u001b[38;5;241;43m=\u001b[39;49m\u001b[43me\u001b[49m\u001b[43m,\u001b[49m\u001b[43m \u001b[49m\u001b[43m_pool\u001b[49m\u001b[38;5;241;43m=\u001b[39;49m\u001b[38;5;28;43mself\u001b[39;49m\u001b[43m,\u001b[49m\u001b[43m \u001b[49m\u001b[43m_stacktrace\u001b[49m\u001b[38;5;241;43m=\u001b[39;49m\u001b[43msys\u001b[49m\u001b[38;5;241;43m.\u001b[39;49m\u001b[43mexc_info\u001b[49m\u001b[43m(\u001b[49m\u001b[43m)\u001b[49m\u001b[43m[\u001b[49m\u001b[38;5;241;43m2\u001b[39;49m\u001b[43m]\u001b[49m\n\u001b[1;32m    758\u001b[0m \u001b[43m\u001b[49m\u001b[43m)\u001b[49m\n\u001b[1;32m    759\u001b[0m retries\u001b[38;5;241m.\u001b[39msleep()\n",
      "File \u001b[0;32m/usr/lib/python3/dist-packages/urllib3/util/retry.py:532\u001b[0m, in \u001b[0;36mRetry.increment\u001b[0;34m(self, method, url, response, error, _pool, _stacktrace)\u001b[0m\n\u001b[1;32m    531\u001b[0m \u001b[38;5;28;01mif\u001b[39;00m read \u001b[38;5;129;01mis\u001b[39;00m \u001b[38;5;28;01mFalse\u001b[39;00m \u001b[38;5;129;01mor\u001b[39;00m \u001b[38;5;129;01mnot\u001b[39;00m \u001b[38;5;28mself\u001b[39m\u001b[38;5;241m.\u001b[39m_is_method_retryable(method):\n\u001b[0;32m--> 532\u001b[0m     \u001b[38;5;28;01mraise\u001b[39;00m \u001b[43msix\u001b[49m\u001b[38;5;241;43m.\u001b[39;49m\u001b[43mreraise\u001b[49m\u001b[43m(\u001b[49m\u001b[38;5;28;43mtype\u001b[39;49m\u001b[43m(\u001b[49m\u001b[43merror\u001b[49m\u001b[43m)\u001b[49m\u001b[43m,\u001b[49m\u001b[43m \u001b[49m\u001b[43merror\u001b[49m\u001b[43m,\u001b[49m\u001b[43m \u001b[49m\u001b[43m_stacktrace\u001b[49m\u001b[43m)\u001b[49m\n\u001b[1;32m    533\u001b[0m \u001b[38;5;28;01melif\u001b[39;00m read \u001b[38;5;129;01mis\u001b[39;00m \u001b[38;5;129;01mnot\u001b[39;00m \u001b[38;5;28;01mNone\u001b[39;00m:\n",
      "File \u001b[0;32m/usr/lib/python3/dist-packages/six.py:718\u001b[0m, in \u001b[0;36mreraise\u001b[0;34m(tp, value, tb)\u001b[0m\n\u001b[1;32m    717\u001b[0m \u001b[38;5;28;01mif\u001b[39;00m value\u001b[38;5;241m.\u001b[39m__traceback__ \u001b[38;5;129;01mis\u001b[39;00m \u001b[38;5;129;01mnot\u001b[39;00m tb:\n\u001b[0;32m--> 718\u001b[0m     \u001b[38;5;28;01mraise\u001b[39;00m value\u001b[38;5;241m.\u001b[39mwith_traceback(tb)\n\u001b[1;32m    719\u001b[0m \u001b[38;5;28;01mraise\u001b[39;00m value\n",
      "File \u001b[0;32m/usr/lib/python3/dist-packages/urllib3/connectionpool.py:700\u001b[0m, in \u001b[0;36mHTTPConnectionPool.urlopen\u001b[0;34m(self, method, url, body, headers, retries, redirect, assert_same_host, timeout, pool_timeout, release_conn, chunked, body_pos, **response_kw)\u001b[0m\n\u001b[1;32m    699\u001b[0m \u001b[38;5;66;03m# Make the request on the httplib connection object.\u001b[39;00m\n\u001b[0;32m--> 700\u001b[0m httplib_response \u001b[38;5;241m=\u001b[39m \u001b[38;5;28;43mself\u001b[39;49m\u001b[38;5;241;43m.\u001b[39;49m\u001b[43m_make_request\u001b[49m\u001b[43m(\u001b[49m\n\u001b[1;32m    701\u001b[0m \u001b[43m    \u001b[49m\u001b[43mconn\u001b[49m\u001b[43m,\u001b[49m\n\u001b[1;32m    702\u001b[0m \u001b[43m    \u001b[49m\u001b[43mmethod\u001b[49m\u001b[43m,\u001b[49m\n\u001b[1;32m    703\u001b[0m \u001b[43m    \u001b[49m\u001b[43murl\u001b[49m\u001b[43m,\u001b[49m\n\u001b[1;32m    704\u001b[0m \u001b[43m    \u001b[49m\u001b[43mtimeout\u001b[49m\u001b[38;5;241;43m=\u001b[39;49m\u001b[43mtimeout_obj\u001b[49m\u001b[43m,\u001b[49m\n\u001b[1;32m    705\u001b[0m \u001b[43m    \u001b[49m\u001b[43mbody\u001b[49m\u001b[38;5;241;43m=\u001b[39;49m\u001b[43mbody\u001b[49m\u001b[43m,\u001b[49m\n\u001b[1;32m    706\u001b[0m \u001b[43m    \u001b[49m\u001b[43mheaders\u001b[49m\u001b[38;5;241;43m=\u001b[39;49m\u001b[43mheaders\u001b[49m\u001b[43m,\u001b[49m\n\u001b[1;32m    707\u001b[0m \u001b[43m    \u001b[49m\u001b[43mchunked\u001b[49m\u001b[38;5;241;43m=\u001b[39;49m\u001b[43mchunked\u001b[49m\u001b[43m,\u001b[49m\n\u001b[1;32m    708\u001b[0m \u001b[43m\u001b[49m\u001b[43m)\u001b[49m\n\u001b[1;32m    710\u001b[0m \u001b[38;5;66;03m# If we're going to release the connection in ``finally:``, then\u001b[39;00m\n\u001b[1;32m    711\u001b[0m \u001b[38;5;66;03m# the response doesn't need to know about the connection. Otherwise\u001b[39;00m\n\u001b[1;32m    712\u001b[0m \u001b[38;5;66;03m# it will also try to release it and we'll have a double-release\u001b[39;00m\n\u001b[1;32m    713\u001b[0m \u001b[38;5;66;03m# mess.\u001b[39;00m\n",
      "File \u001b[0;32m/usr/lib/python3/dist-packages/urllib3/connectionpool.py:383\u001b[0m, in \u001b[0;36mHTTPConnectionPool._make_request\u001b[0;34m(self, conn, method, url, timeout, chunked, **httplib_request_kw)\u001b[0m\n\u001b[1;32m    382\u001b[0m \u001b[38;5;28;01mtry\u001b[39;00m:\n\u001b[0;32m--> 383\u001b[0m     \u001b[38;5;28;43mself\u001b[39;49m\u001b[38;5;241;43m.\u001b[39;49m\u001b[43m_validate_conn\u001b[49m\u001b[43m(\u001b[49m\u001b[43mconn\u001b[49m\u001b[43m)\u001b[49m\n\u001b[1;32m    384\u001b[0m \u001b[38;5;28;01mexcept\u001b[39;00m (SocketTimeout, BaseSSLError) \u001b[38;5;28;01mas\u001b[39;00m e:\n\u001b[1;32m    385\u001b[0m     \u001b[38;5;66;03m# Py2 raises this as a BaseSSLError, Py3 raises it as socket timeout.\u001b[39;00m\n",
      "File \u001b[0;32m/usr/lib/python3/dist-packages/urllib3/connectionpool.py:1017\u001b[0m, in \u001b[0;36mHTTPSConnectionPool._validate_conn\u001b[0;34m(self, conn)\u001b[0m\n\u001b[1;32m   1016\u001b[0m \u001b[38;5;28;01mif\u001b[39;00m \u001b[38;5;129;01mnot\u001b[39;00m \u001b[38;5;28mgetattr\u001b[39m(conn, \u001b[38;5;124m\"\u001b[39m\u001b[38;5;124msock\u001b[39m\u001b[38;5;124m\"\u001b[39m, \u001b[38;5;28;01mNone\u001b[39;00m):  \u001b[38;5;66;03m# AppEngine might not have  `.sock`\u001b[39;00m\n\u001b[0;32m-> 1017\u001b[0m     \u001b[43mconn\u001b[49m\u001b[38;5;241;43m.\u001b[39;49m\u001b[43mconnect\u001b[49m\u001b[43m(\u001b[49m\u001b[43m)\u001b[49m\n\u001b[1;32m   1019\u001b[0m \u001b[38;5;28;01mif\u001b[39;00m \u001b[38;5;129;01mnot\u001b[39;00m conn\u001b[38;5;241m.\u001b[39mis_verified:\n",
      "File \u001b[0;32m/usr/lib/python3/dist-packages/urllib3/connection.py:411\u001b[0m, in \u001b[0;36mHTTPSConnection.connect\u001b[0;34m(self)\u001b[0m\n\u001b[1;32m    409\u001b[0m     context\u001b[38;5;241m.\u001b[39mload_default_certs()\n\u001b[0;32m--> 411\u001b[0m \u001b[38;5;28mself\u001b[39m\u001b[38;5;241m.\u001b[39msock \u001b[38;5;241m=\u001b[39m \u001b[43mssl_wrap_socket\u001b[49m\u001b[43m(\u001b[49m\n\u001b[1;32m    412\u001b[0m \u001b[43m    \u001b[49m\u001b[43msock\u001b[49m\u001b[38;5;241;43m=\u001b[39;49m\u001b[43mconn\u001b[49m\u001b[43m,\u001b[49m\n\u001b[1;32m    413\u001b[0m \u001b[43m    \u001b[49m\u001b[43mkeyfile\u001b[49m\u001b[38;5;241;43m=\u001b[39;49m\u001b[38;5;28;43mself\u001b[39;49m\u001b[38;5;241;43m.\u001b[39;49m\u001b[43mkey_file\u001b[49m\u001b[43m,\u001b[49m\n\u001b[1;32m    414\u001b[0m \u001b[43m    \u001b[49m\u001b[43mcertfile\u001b[49m\u001b[38;5;241;43m=\u001b[39;49m\u001b[38;5;28;43mself\u001b[39;49m\u001b[38;5;241;43m.\u001b[39;49m\u001b[43mcert_file\u001b[49m\u001b[43m,\u001b[49m\n\u001b[1;32m    415\u001b[0m \u001b[43m    \u001b[49m\u001b[43mkey_password\u001b[49m\u001b[38;5;241;43m=\u001b[39;49m\u001b[38;5;28;43mself\u001b[39;49m\u001b[38;5;241;43m.\u001b[39;49m\u001b[43mkey_password\u001b[49m\u001b[43m,\u001b[49m\n\u001b[1;32m    416\u001b[0m \u001b[43m    \u001b[49m\u001b[43mca_certs\u001b[49m\u001b[38;5;241;43m=\u001b[39;49m\u001b[38;5;28;43mself\u001b[39;49m\u001b[38;5;241;43m.\u001b[39;49m\u001b[43mca_certs\u001b[49m\u001b[43m,\u001b[49m\n\u001b[1;32m    417\u001b[0m \u001b[43m    \u001b[49m\u001b[43mca_cert_dir\u001b[49m\u001b[38;5;241;43m=\u001b[39;49m\u001b[38;5;28;43mself\u001b[39;49m\u001b[38;5;241;43m.\u001b[39;49m\u001b[43mca_cert_dir\u001b[49m\u001b[43m,\u001b[49m\n\u001b[1;32m    418\u001b[0m \u001b[43m    \u001b[49m\u001b[43mca_cert_data\u001b[49m\u001b[38;5;241;43m=\u001b[39;49m\u001b[38;5;28;43mself\u001b[39;49m\u001b[38;5;241;43m.\u001b[39;49m\u001b[43mca_cert_data\u001b[49m\u001b[43m,\u001b[49m\n\u001b[1;32m    419\u001b[0m \u001b[43m    \u001b[49m\u001b[43mserver_hostname\u001b[49m\u001b[38;5;241;43m=\u001b[39;49m\u001b[43mserver_hostname\u001b[49m\u001b[43m,\u001b[49m\n\u001b[1;32m    420\u001b[0m \u001b[43m    \u001b[49m\u001b[43mssl_context\u001b[49m\u001b[38;5;241;43m=\u001b[39;49m\u001b[43mcontext\u001b[49m\u001b[43m,\u001b[49m\n\u001b[1;32m    421\u001b[0m \u001b[43m    \u001b[49m\u001b[43mtls_in_tls\u001b[49m\u001b[38;5;241;43m=\u001b[39;49m\u001b[43mtls_in_tls\u001b[49m\u001b[43m,\u001b[49m\n\u001b[1;32m    422\u001b[0m \u001b[43m\u001b[49m\u001b[43m)\u001b[49m\n\u001b[1;32m    424\u001b[0m \u001b[38;5;66;03m# If we're using all defaults and the connection\u001b[39;00m\n\u001b[1;32m    425\u001b[0m \u001b[38;5;66;03m# is TLSv1 or TLSv1.1 we throw a DeprecationWarning\u001b[39;00m\n\u001b[1;32m    426\u001b[0m \u001b[38;5;66;03m# for the host.\u001b[39;00m\n",
      "File \u001b[0;32m/usr/lib/python3/dist-packages/urllib3/util/ssl_.py:449\u001b[0m, in \u001b[0;36mssl_wrap_socket\u001b[0;34m(sock, keyfile, certfile, cert_reqs, ca_certs, server_hostname, ssl_version, ciphers, ssl_context, ca_cert_dir, key_password, ca_cert_data, tls_in_tls)\u001b[0m\n\u001b[1;32m    448\u001b[0m \u001b[38;5;28;01mif\u001b[39;00m send_sni:\n\u001b[0;32m--> 449\u001b[0m     ssl_sock \u001b[38;5;241m=\u001b[39m \u001b[43m_ssl_wrap_socket_impl\u001b[49m\u001b[43m(\u001b[49m\n\u001b[1;32m    450\u001b[0m \u001b[43m        \u001b[49m\u001b[43msock\u001b[49m\u001b[43m,\u001b[49m\u001b[43m \u001b[49m\u001b[43mcontext\u001b[49m\u001b[43m,\u001b[49m\u001b[43m \u001b[49m\u001b[43mtls_in_tls\u001b[49m\u001b[43m,\u001b[49m\u001b[43m \u001b[49m\u001b[43mserver_hostname\u001b[49m\u001b[38;5;241;43m=\u001b[39;49m\u001b[43mserver_hostname\u001b[49m\n\u001b[1;32m    451\u001b[0m \u001b[43m    \u001b[49m\u001b[43m)\u001b[49m\n\u001b[1;32m    452\u001b[0m \u001b[38;5;28;01melse\u001b[39;00m:\n",
      "File \u001b[0;32m/usr/lib/python3/dist-packages/urllib3/util/ssl_.py:493\u001b[0m, in \u001b[0;36m_ssl_wrap_socket_impl\u001b[0;34m(sock, ssl_context, tls_in_tls, server_hostname)\u001b[0m\n\u001b[1;32m    492\u001b[0m \u001b[38;5;28;01mif\u001b[39;00m server_hostname:\n\u001b[0;32m--> 493\u001b[0m     \u001b[38;5;28;01mreturn\u001b[39;00m \u001b[43mssl_context\u001b[49m\u001b[38;5;241;43m.\u001b[39;49m\u001b[43mwrap_socket\u001b[49m\u001b[43m(\u001b[49m\u001b[43msock\u001b[49m\u001b[43m,\u001b[49m\u001b[43m \u001b[49m\u001b[43mserver_hostname\u001b[49m\u001b[38;5;241;43m=\u001b[39;49m\u001b[43mserver_hostname\u001b[49m\u001b[43m)\u001b[49m\n\u001b[1;32m    494\u001b[0m \u001b[38;5;28;01melse\u001b[39;00m:\n",
      "File \u001b[0;32m/usr/lib/python3.10/ssl.py:513\u001b[0m, in \u001b[0;36mSSLContext.wrap_socket\u001b[0;34m(self, sock, server_side, do_handshake_on_connect, suppress_ragged_eofs, server_hostname, session)\u001b[0m\n\u001b[1;32m    507\u001b[0m \u001b[38;5;28;01mdef\u001b[39;00m \u001b[38;5;21mwrap_socket\u001b[39m(\u001b[38;5;28mself\u001b[39m, sock, server_side\u001b[38;5;241m=\u001b[39m\u001b[38;5;28;01mFalse\u001b[39;00m,\n\u001b[1;32m    508\u001b[0m                 do_handshake_on_connect\u001b[38;5;241m=\u001b[39m\u001b[38;5;28;01mTrue\u001b[39;00m,\n\u001b[1;32m    509\u001b[0m                 suppress_ragged_eofs\u001b[38;5;241m=\u001b[39m\u001b[38;5;28;01mTrue\u001b[39;00m,\n\u001b[1;32m    510\u001b[0m                 server_hostname\u001b[38;5;241m=\u001b[39m\u001b[38;5;28;01mNone\u001b[39;00m, session\u001b[38;5;241m=\u001b[39m\u001b[38;5;28;01mNone\u001b[39;00m):\n\u001b[1;32m    511\u001b[0m     \u001b[38;5;66;03m# SSLSocket class handles server_hostname encoding before it calls\u001b[39;00m\n\u001b[1;32m    512\u001b[0m     \u001b[38;5;66;03m# ctx._wrap_socket()\u001b[39;00m\n\u001b[0;32m--> 513\u001b[0m     \u001b[38;5;28;01mreturn\u001b[39;00m \u001b[38;5;28;43mself\u001b[39;49m\u001b[38;5;241;43m.\u001b[39;49m\u001b[43msslsocket_class\u001b[49m\u001b[38;5;241;43m.\u001b[39;49m\u001b[43m_create\u001b[49m\u001b[43m(\u001b[49m\n\u001b[1;32m    514\u001b[0m \u001b[43m        \u001b[49m\u001b[43msock\u001b[49m\u001b[38;5;241;43m=\u001b[39;49m\u001b[43msock\u001b[49m\u001b[43m,\u001b[49m\n\u001b[1;32m    515\u001b[0m \u001b[43m        \u001b[49m\u001b[43mserver_side\u001b[49m\u001b[38;5;241;43m=\u001b[39;49m\u001b[43mserver_side\u001b[49m\u001b[43m,\u001b[49m\n\u001b[1;32m    516\u001b[0m \u001b[43m        \u001b[49m\u001b[43mdo_handshake_on_connect\u001b[49m\u001b[38;5;241;43m=\u001b[39;49m\u001b[43mdo_handshake_on_connect\u001b[49m\u001b[43m,\u001b[49m\n\u001b[1;32m    517\u001b[0m \u001b[43m        \u001b[49m\u001b[43msuppress_ragged_eofs\u001b[49m\u001b[38;5;241;43m=\u001b[39;49m\u001b[43msuppress_ragged_eofs\u001b[49m\u001b[43m,\u001b[49m\n\u001b[1;32m    518\u001b[0m \u001b[43m        \u001b[49m\u001b[43mserver_hostname\u001b[49m\u001b[38;5;241;43m=\u001b[39;49m\u001b[43mserver_hostname\u001b[49m\u001b[43m,\u001b[49m\n\u001b[1;32m    519\u001b[0m \u001b[43m        \u001b[49m\u001b[43mcontext\u001b[49m\u001b[38;5;241;43m=\u001b[39;49m\u001b[38;5;28;43mself\u001b[39;49m\u001b[43m,\u001b[49m\n\u001b[1;32m    520\u001b[0m \u001b[43m        \u001b[49m\u001b[43msession\u001b[49m\u001b[38;5;241;43m=\u001b[39;49m\u001b[43msession\u001b[49m\n\u001b[1;32m    521\u001b[0m \u001b[43m    \u001b[49m\u001b[43m)\u001b[49m\n",
      "File \u001b[0;32m/usr/lib/python3.10/ssl.py:1100\u001b[0m, in \u001b[0;36mSSLSocket._create\u001b[0;34m(cls, sock, server_side, do_handshake_on_connect, suppress_ragged_eofs, server_hostname, context, session)\u001b[0m\n\u001b[1;32m   1099\u001b[0m             \u001b[38;5;28;01mraise\u001b[39;00m \u001b[38;5;167;01mValueError\u001b[39;00m(\u001b[38;5;124m\"\u001b[39m\u001b[38;5;124mdo_handshake_on_connect should not be specified for non-blocking sockets\u001b[39m\u001b[38;5;124m\"\u001b[39m)\n\u001b[0;32m-> 1100\u001b[0m         \u001b[38;5;28;43mself\u001b[39;49m\u001b[38;5;241;43m.\u001b[39;49m\u001b[43mdo_handshake\u001b[49m\u001b[43m(\u001b[49m\u001b[43m)\u001b[49m\n\u001b[1;32m   1101\u001b[0m \u001b[38;5;28;01mexcept\u001b[39;00m (\u001b[38;5;167;01mOSError\u001b[39;00m, \u001b[38;5;167;01mValueError\u001b[39;00m):\n",
      "File \u001b[0;32m/usr/lib/python3.10/ssl.py:1371\u001b[0m, in \u001b[0;36mSSLSocket.do_handshake\u001b[0;34m(self, block)\u001b[0m\n\u001b[1;32m   1370\u001b[0m         \u001b[38;5;28mself\u001b[39m\u001b[38;5;241m.\u001b[39msettimeout(\u001b[38;5;28;01mNone\u001b[39;00m)\n\u001b[0;32m-> 1371\u001b[0m     \u001b[38;5;28;43mself\u001b[39;49m\u001b[38;5;241;43m.\u001b[39;49m\u001b[43m_sslobj\u001b[49m\u001b[38;5;241;43m.\u001b[39;49m\u001b[43mdo_handshake\u001b[49m\u001b[43m(\u001b[49m\u001b[43m)\u001b[49m\n\u001b[1;32m   1372\u001b[0m \u001b[38;5;28;01mfinally\u001b[39;00m:\n",
      "\u001b[0;31mProtocolError\u001b[0m: ('Connection aborted.', ConnectionResetError(104, 'Connection reset by peer'))",
      "\nDuring handling of the above exception, another exception occurred:\n",
      "\u001b[0;31mConnectionError\u001b[0m                           Traceback (most recent call last)",
      "Cell \u001b[0;32mIn[61], line 20\u001b[0m\n\u001b[1;32m     17\u001b[0m     citizentoken \u001b[38;5;241m=\u001b[39m response\u001b[38;5;241m.\u001b[39mjson()[\u001b[38;5;124m\"\u001b[39m\u001b[38;5;124maccess_token\u001b[39m\u001b[38;5;124m\"\u001b[39m]\n\u001b[1;32m     18\u001b[0m     \u001b[38;5;28;01mreturn\u001b[39;00m citizentoken\n\u001b[0;32m---> 20\u001b[0m citizen1token \u001b[38;5;241m=\u001b[39m \u001b[43mgetToken\u001b[49m\u001b[43m(\u001b[49m\u001b[43mcitizenUserId\u001b[49m\u001b[43m)\u001b[49m\n\u001b[1;32m     21\u001b[0m \u001b[38;5;28mprint\u001b[39m(citizen1token)\n",
      "Cell \u001b[0;32mIn[61], line 14\u001b[0m, in \u001b[0;36mgetToken\u001b[0;34m(userId)\u001b[0m\n\u001b[1;32m     12\u001b[0m \u001b[38;5;66;03m# Suppress the warnings from urllib3\u001b[39;00m\n\u001b[1;32m     13\u001b[0m requests\u001b[38;5;241m.\u001b[39mpackages\u001b[38;5;241m.\u001b[39murllib3\u001b[38;5;241m.\u001b[39mdisable_warnings(category\u001b[38;5;241m=\u001b[39mInsecureRequestWarning)\n\u001b[0;32m---> 14\u001b[0m response \u001b[38;5;241m=\u001b[39m \u001b[43mrequests\u001b[49m\u001b[38;5;241;43m.\u001b[39;49m\u001b[43mpost\u001b[49m\u001b[43m(\u001b[49m\u001b[38;5;124;43m'\u001b[39;49m\u001b[38;5;132;43;01m%s\u001b[39;49;00m\u001b[38;5;124;43m/auth/realms/sunbird-rc/protocol/openid-connect/token\u001b[39;49m\u001b[38;5;124;43m'\u001b[39;49m\u001b[38;5;241;43m%\u001b[39;49m\u001b[43m(\u001b[49m\u001b[43mkeycloakUrl\u001b[49m\u001b[43m)\u001b[49m\u001b[43m,\u001b[49m\u001b[43m \u001b[49m\u001b[43mheaders\u001b[49m\u001b[38;5;241;43m=\u001b[39;49m\u001b[43mheaders\u001b[49m\u001b[43m,\u001b[49m\u001b[43m \u001b[49m\u001b[43mdata\u001b[49m\u001b[38;5;241;43m=\u001b[39;49m\u001b[43mdata\u001b[49m\u001b[43m,\u001b[49m\u001b[43mverify\u001b[49m\u001b[38;5;241;43m=\u001b[39;49m\u001b[38;5;28;43;01mFalse\u001b[39;49;00m\u001b[43m)\u001b[49m\n\u001b[1;32m     15\u001b[0m \u001b[38;5;28mprint\u001b[39m(response\u001b[38;5;241m.\u001b[39mstatus_code)\n\u001b[1;32m     16\u001b[0m \u001b[38;5;28mprint\u001b[39m(response\u001b[38;5;241m.\u001b[39mjson())\n",
      "File \u001b[0;32m/usr/lib/python3/dist-packages/requests/api.py:119\u001b[0m, in \u001b[0;36mpost\u001b[0;34m(url, data, json, **kwargs)\u001b[0m\n\u001b[1;32m    107\u001b[0m \u001b[38;5;28;01mdef\u001b[39;00m \u001b[38;5;21mpost\u001b[39m(url, data\u001b[38;5;241m=\u001b[39m\u001b[38;5;28;01mNone\u001b[39;00m, json\u001b[38;5;241m=\u001b[39m\u001b[38;5;28;01mNone\u001b[39;00m, \u001b[38;5;241m*\u001b[39m\u001b[38;5;241m*\u001b[39mkwargs):\n\u001b[1;32m    108\u001b[0m \u001b[38;5;250m    \u001b[39m\u001b[38;5;124mr\u001b[39m\u001b[38;5;124;03m\"\"\"Sends a POST request.\u001b[39;00m\n\u001b[1;32m    109\u001b[0m \n\u001b[1;32m    110\u001b[0m \u001b[38;5;124;03m    :param url: URL for the new :class:`Request` object.\u001b[39;00m\n\u001b[0;32m   (...)\u001b[0m\n\u001b[1;32m    116\u001b[0m \u001b[38;5;124;03m    :rtype: requests.Response\u001b[39;00m\n\u001b[1;32m    117\u001b[0m \u001b[38;5;124;03m    \"\"\"\u001b[39;00m\n\u001b[0;32m--> 119\u001b[0m     \u001b[38;5;28;01mreturn\u001b[39;00m \u001b[43mrequest\u001b[49m\u001b[43m(\u001b[49m\u001b[38;5;124;43m'\u001b[39;49m\u001b[38;5;124;43mpost\u001b[39;49m\u001b[38;5;124;43m'\u001b[39;49m\u001b[43m,\u001b[49m\u001b[43m \u001b[49m\u001b[43murl\u001b[49m\u001b[43m,\u001b[49m\u001b[43m \u001b[49m\u001b[43mdata\u001b[49m\u001b[38;5;241;43m=\u001b[39;49m\u001b[43mdata\u001b[49m\u001b[43m,\u001b[49m\u001b[43m \u001b[49m\u001b[43mjson\u001b[49m\u001b[38;5;241;43m=\u001b[39;49m\u001b[43mjson\u001b[49m\u001b[43m,\u001b[49m\u001b[43m \u001b[49m\u001b[38;5;241;43m*\u001b[39;49m\u001b[38;5;241;43m*\u001b[39;49m\u001b[43mkwargs\u001b[49m\u001b[43m)\u001b[49m\n",
      "File \u001b[0;32m/usr/lib/python3/dist-packages/requests/api.py:61\u001b[0m, in \u001b[0;36mrequest\u001b[0;34m(method, url, **kwargs)\u001b[0m\n\u001b[1;32m     57\u001b[0m \u001b[38;5;66;03m# By using the 'with' statement we are sure the session is closed, thus we\u001b[39;00m\n\u001b[1;32m     58\u001b[0m \u001b[38;5;66;03m# avoid leaving sockets open which can trigger a ResourceWarning in some\u001b[39;00m\n\u001b[1;32m     59\u001b[0m \u001b[38;5;66;03m# cases, and look like a memory leak in others.\u001b[39;00m\n\u001b[1;32m     60\u001b[0m \u001b[38;5;28;01mwith\u001b[39;00m sessions\u001b[38;5;241m.\u001b[39mSession() \u001b[38;5;28;01mas\u001b[39;00m session:\n\u001b[0;32m---> 61\u001b[0m     \u001b[38;5;28;01mreturn\u001b[39;00m \u001b[43msession\u001b[49m\u001b[38;5;241;43m.\u001b[39;49m\u001b[43mrequest\u001b[49m\u001b[43m(\u001b[49m\u001b[43mmethod\u001b[49m\u001b[38;5;241;43m=\u001b[39;49m\u001b[43mmethod\u001b[49m\u001b[43m,\u001b[49m\u001b[43m \u001b[49m\u001b[43murl\u001b[49m\u001b[38;5;241;43m=\u001b[39;49m\u001b[43murl\u001b[49m\u001b[43m,\u001b[49m\u001b[43m \u001b[49m\u001b[38;5;241;43m*\u001b[39;49m\u001b[38;5;241;43m*\u001b[39;49m\u001b[43mkwargs\u001b[49m\u001b[43m)\u001b[49m\n",
      "File \u001b[0;32m/usr/lib/python3/dist-packages/requests/sessions.py:544\u001b[0m, in \u001b[0;36mSession.request\u001b[0;34m(self, method, url, params, data, headers, cookies, files, auth, timeout, allow_redirects, proxies, hooks, stream, verify, cert, json)\u001b[0m\n\u001b[1;32m    539\u001b[0m send_kwargs \u001b[38;5;241m=\u001b[39m {\n\u001b[1;32m    540\u001b[0m     \u001b[38;5;124m'\u001b[39m\u001b[38;5;124mtimeout\u001b[39m\u001b[38;5;124m'\u001b[39m: timeout,\n\u001b[1;32m    541\u001b[0m     \u001b[38;5;124m'\u001b[39m\u001b[38;5;124mallow_redirects\u001b[39m\u001b[38;5;124m'\u001b[39m: allow_redirects,\n\u001b[1;32m    542\u001b[0m }\n\u001b[1;32m    543\u001b[0m send_kwargs\u001b[38;5;241m.\u001b[39mupdate(settings)\n\u001b[0;32m--> 544\u001b[0m resp \u001b[38;5;241m=\u001b[39m \u001b[38;5;28;43mself\u001b[39;49m\u001b[38;5;241;43m.\u001b[39;49m\u001b[43msend\u001b[49m\u001b[43m(\u001b[49m\u001b[43mprep\u001b[49m\u001b[43m,\u001b[49m\u001b[43m \u001b[49m\u001b[38;5;241;43m*\u001b[39;49m\u001b[38;5;241;43m*\u001b[39;49m\u001b[43msend_kwargs\u001b[49m\u001b[43m)\u001b[49m\n\u001b[1;32m    546\u001b[0m \u001b[38;5;28;01mreturn\u001b[39;00m resp\n",
      "File \u001b[0;32m/usr/lib/python3/dist-packages/requests/sessions.py:657\u001b[0m, in \u001b[0;36mSession.send\u001b[0;34m(self, request, **kwargs)\u001b[0m\n\u001b[1;32m    654\u001b[0m start \u001b[38;5;241m=\u001b[39m preferred_clock()\n\u001b[1;32m    656\u001b[0m \u001b[38;5;66;03m# Send the request\u001b[39;00m\n\u001b[0;32m--> 657\u001b[0m r \u001b[38;5;241m=\u001b[39m \u001b[43madapter\u001b[49m\u001b[38;5;241;43m.\u001b[39;49m\u001b[43msend\u001b[49m\u001b[43m(\u001b[49m\u001b[43mrequest\u001b[49m\u001b[43m,\u001b[49m\u001b[43m \u001b[49m\u001b[38;5;241;43m*\u001b[39;49m\u001b[38;5;241;43m*\u001b[39;49m\u001b[43mkwargs\u001b[49m\u001b[43m)\u001b[49m\n\u001b[1;32m    659\u001b[0m \u001b[38;5;66;03m# Total elapsed time of the request (approximately)\u001b[39;00m\n\u001b[1;32m    660\u001b[0m elapsed \u001b[38;5;241m=\u001b[39m preferred_clock() \u001b[38;5;241m-\u001b[39m start\n",
      "File \u001b[0;32m/usr/lib/python3/dist-packages/requests/adapters.py:498\u001b[0m, in \u001b[0;36mHTTPAdapter.send\u001b[0;34m(self, request, stream, timeout, verify, cert, proxies)\u001b[0m\n\u001b[1;32m    495\u001b[0m             \u001b[38;5;28;01mraise\u001b[39;00m\n\u001b[1;32m    497\u001b[0m \u001b[38;5;28;01mexcept\u001b[39;00m (ProtocolError, socket\u001b[38;5;241m.\u001b[39merror) \u001b[38;5;28;01mas\u001b[39;00m err:\n\u001b[0;32m--> 498\u001b[0m     \u001b[38;5;28;01mraise\u001b[39;00m \u001b[38;5;167;01mConnectionError\u001b[39;00m(err, request\u001b[38;5;241m=\u001b[39mrequest)\n\u001b[1;32m    500\u001b[0m \u001b[38;5;28;01mexcept\u001b[39;00m MaxRetryError \u001b[38;5;28;01mas\u001b[39;00m e:\n\u001b[1;32m    501\u001b[0m     \u001b[38;5;28;01mif\u001b[39;00m \u001b[38;5;28misinstance\u001b[39m(e\u001b[38;5;241m.\u001b[39mreason, ConnectTimeoutError):\n\u001b[1;32m    502\u001b[0m         \u001b[38;5;66;03m# TODO: Remove this in 3.0.0: see #2811\u001b[39;00m\n",
      "\u001b[0;31mConnectionError\u001b[0m: ('Connection aborted.', ConnectionResetError(104, 'Connection reset by peer'))"
     ]
    }
   ],
   "source": [
    "def getToken(userId):\n",
    "    headers = {\n",
    "        'content-type': 'application/x-www-form-urlencoded',\n",
    "    }\n",
    "\n",
    "    data = {\n",
    "      'client_id': 'registry-frontend',\n",
    "      'username': userId,\n",
    "      'password': 'abcd@123',\n",
    "      'grant_type': 'password'\n",
    "    }\n",
    "    # Suppress the warnings from urllib3\n",
    "    requests.packages.urllib3.disable_warnings(category=InsecureRequestWarning)\n",
    "    response = requests.post('%s/auth/realms/sunbird-rc/protocol/openid-connect/token'%(keycloakUrl), headers=headers, data=data,verify=False)\n",
    "    print(response.status_code)\n",
    "    print(response.json())\n",
    "    citizentoken = response.json()[\"access_token\"]\n",
    "    return citizentoken\n",
    "\n",
    "citizen1token = getToken(citizenUserId)\n",
    "print(citizen1token)"
   ]
  },
  {
   "attachments": {},
   "cell_type": "markdown",
   "id": "04fe9c4b",
   "metadata": {},
   "source": [
    "#### Get Citizen1 Details"
   ]
  },
  {
   "cell_type": "code",
   "execution_count": 152,
   "id": "7c60dd77",
   "metadata": {},
   "outputs": [
    {
     "name": "stdout",
     "output_type": "stream",
     "text": [
      "[{\"osUpdatedAt\":\"2023-07-25T01:28:00.362Z\",\"gender\":\"Male\",\"osCreatedAt\":\"2023-07-25T01:28:00.362Z\",\"osUpdatedBy\":\"\",\"dob\":\"2000-10-10\",\"name\":\"Zak Crawley\",\"osCreatedBy\":\"\",\"osid\":\"1-e5282f0e-57ae-47f8-ab3a-e73c5cb1b228\",\"osOwner\":[\"2c4f0e55-3a31-4ade-9b51-5a3fe1c56886\"],\"email\":\"zcrawley@gmail.com\"}]\n",
      "1-e5282f0e-57ae-47f8-ab3a-e73c5cb1b228\n",
      "Zak Crawley\n",
      "zcrawley@gmail.com\n"
     ]
    }
   ],
   "source": [
    "headers = {\n",
    "  'Content-Type': 'application/json',\n",
    "    'Authorization': 'bearer %s'%citizen1token\n",
    "}\n",
    "\n",
    "response = requests.request(\"GET\", apibaseUrl + \"CitizenV2\", headers=headers)\n",
    "\n",
    "print(response.text)\n",
    "citizen1Osid = response.json()[0][\"osid\"]\n",
    "citizen1Name = response.json()[0][\"name\"]\n",
    "citizen1Email = response.json()[0][\"email\"]\n",
    "print(citizen1Osid)\n",
    "print(citizen1Name)\n",
    "print(citizen1Email)\n",
    "assert response.status_code == 200"
   ]
  },
  {
   "attachments": {},
   "cell_type": "markdown",
   "id": "4bd318ba",
   "metadata": {},
   "source": [
    "#### Official Adds Vehicle and assigns to Citizen1"
   ]
  },
  {
   "cell_type": "code",
   "execution_count": 153,
   "id": "d79f9b04",
   "metadata": {},
   "outputs": [
    {
     "name": "stdout",
     "output_type": "stream",
     "text": [
      "{\"id\":\"sunbird-rc.registry.invite\",\"ver\":\"1.0\",\"ets\":1690248491292,\"params\":{\"resmsgid\":\"\",\"msgid\":\"ac07839f-9b49-4134-9ddd-bf0e72a86edf\",\"err\":\"\",\"status\":\"SUCCESSFUL\",\"errmsg\":\"\"},\"responseCode\":\"OK\",\"result\":{\"VehicleV2\":{\"osid\":\"1-810074dc-a611-4447-bdff-55c83fba3312\"}}}\n"
     ]
    }
   ],
   "source": [
    "### Code for adding vehicle\n",
    "\n",
    "vehicleRegNumber = \"ECB73D2\"\n",
    "vehicleRequestBody = {\n",
    "    \"regnumber\": vehicleRegNumber,\n",
    "    \"mnfyear\": \"2022\",\n",
    "    \"vehicletype\": \"Car\",\n",
    "    \"owner\": \n",
    "      {\n",
    "      \"citizenOSID\": citizen1Osid,\n",
    "      \"citizenName\": citizen1Name,\n",
    "      \"citizenEmail\": citizen1Email\n",
    "      }\n",
    "    \n",
    "}\n",
    "\n",
    "headers = {\n",
    "  'Content-Type': 'application/json',\n",
    "  'Authorization': 'bearer %s'%issuerToken\n",
    "}\n",
    "\n",
    "response = requests.request(\"POST\", apibaseUrl + \"VehicleV2/invite\", headers=headers, json=vehicleRequestBody)\n",
    "\n",
    "print(response.text)\n",
    "assert response.status_code == 200\n"
   ]
  },
  {
   "attachments": {},
   "cell_type": "markdown",
   "id": "c721198a",
   "metadata": {},
   "source": [
    "#### Search Vehicle Details by vehicle reg number"
   ]
  },
  {
   "cell_type": "code",
   "execution_count": 154,
   "id": "7d785497",
   "metadata": {},
   "outputs": [
    {
     "name": "stdout",
     "output_type": "stream",
     "text": [
      "[\n",
      "    {\n",
      "        \"regnumber\": \"ECB73D2\",\n",
      "        \"mnfyear\": \"2022\",\n",
      "        \"vehicletype\": \"Car\",\n",
      "        \"owner\": {\n",
      "            \"citizenOSID\": \"1-e5282f0e-57ae-47f8-ab3a-e73c5cb1b228\",\n",
      "            \"citizenName\": \"Zak Crawley\",\n",
      "            \"citizenEmail\": \"zcrawley@gmail.com\",\n",
      "            \"osCreatedAt\": \"2023-07-25T01:28:11.341Z\",\n",
      "            \"osUpdatedAt\": \"2023-07-25T01:28:11.341Z\",\n",
      "            \"osCreatedBy\": \"\",\n",
      "            \"osUpdatedBy\": \"\",\n",
      "            \"osid\": \"1-98f9ca53-56f9-47af-9f9b-85128a50b995\"\n",
      "        },\n",
      "        \"osCreatedAt\": \"2023-07-25T01:28:11.341Z\",\n",
      "        \"osUpdatedAt\": \"2023-07-25T01:28:11.341Z\",\n",
      "        \"osCreatedBy\": \"\",\n",
      "        \"osUpdatedBy\": \"\",\n",
      "        \"osid\": \"1-810074dc-a611-4447-bdff-55c83fba3312\"\n",
      "    }\n",
      "]\n",
      "1-810074dc-a611-4447-bdff-55c83fba3312\n"
     ]
    }
   ],
   "source": [
    "headers = {\n",
    "  'Content-Type': 'application/json',\n",
    "    'Authorization': 'bearer %s'%issuerToken\n",
    "}\n",
    "vehicleSearchBody = {\n",
    "    \"filters\": {\n",
    "        \"regnumber\": {\n",
    "            \"contains\": vehicleRegNumber\n",
    "        }\n",
    "    },\n",
    "    \"limit\": 5,\n",
    "    \"offset\": 0\n",
    "}\n",
    "\n",
    "response = requests.request(\"POST\", apibaseUrl + \"VehicleV2/search\", headers=headers,json=vehicleSearchBody)\n",
    "\n",
    "print(json.dumps(response.json(), indent=4))\n",
    "vehicleOsid = response.json()[0][\"osid\"]\n",
    "print(vehicleOsid)\n",
    "assert response.status_code == 200"
   ]
  },
  {
   "attachments": {},
   "cell_type": "markdown",
   "id": "31a0b27d",
   "metadata": {},
   "source": [
    "#### Official Create a VC for Citizen1"
   ]
  },
  {
   "cell_type": "code",
   "execution_count": 155,
   "id": "ea9473a1",
   "metadata": {},
   "outputs": [
    {
     "name": "stdout",
     "output_type": "stream",
     "text": [
      "200\n",
      "VehicleCertificate\n",
      "1-cc22d105-4b5b-4144-aa9c-2936577f262b\n"
     ]
    }
   ],
   "source": [
    "# create a credential\n",
    "headers = {\n",
    "    'Content-Type': 'application/json',\n",
    "    'Authorization': 'Bearer %s'%issuerToken, \n",
    "}\n",
    "data = {\n",
    "    \"name\": \"Zak Crawley\",\n",
    "    \"regnumber\": \"ECB73D2\",\n",
    "    \"dateofaward\": \"2023-04-20\",\n",
    "    \"nameofScheme\": \"Vehicle Registration\",\n",
    "    \"mnfyear\": \"2022\"\n",
    "\n",
    "}\n",
    "response = requests.post('%s/api/v1/%s'%(baseUrl, schemaName), headers=headers, json=data)\n",
    "print(response.status_code)\n",
    "print(schemaName)\n",
    "credentialOsid = response.json()[\"result\"]['VehicleCertificate'][\"osid\"]\n",
    "print(credentialOsid)"
   ]
  },
  {
   "attachments": {},
   "cell_type": "markdown",
   "id": "53780fb0",
   "metadata": {},
   "source": [
    "#### Official Views the Issued VC"
   ]
  },
  {
   "cell_type": "code",
   "execution_count": 165,
   "id": "e1de70fa",
   "metadata": {},
   "outputs": [
    {
     "data": {
      "image/svg+xml": [
       "<svg xmlns=\"http://www.w3.org/2000/svg\" xmlns:xlink=\"http://www.w3.org/1999/xlink\" width=\"595\" height=\"842\" viewBox=\"0 0 595 842\" fill=\"none\">\n",
       "<rect width=\"595\" height=\"842\" fill=\"#F5F5F5\"/>\n",
       "<path d=\"M-2062 -2097C-2062 -2098.1 -2061.1 -2099 -2060 -2099H720C721.104 -2099 722 -2098.1 722 -2097V944C722 945.104 721.104 946 720 946H-2060C-2061.1 946 -2062 945.104 -2062 944V-2097Z\" fill=\"#E5E5E5\"/>\n",
       "<g clip-path=\"url(#clip0_0_1)\">\n",
       "<rect x=\"1.5\" y=\"1.5\" width=\"592\" height=\"839\" fill=\"white\" stroke=\"#8D9091\" stroke-width=\"3\"/>\n",
       "<text fill=\"black\" xml:space=\"preserve\" style=\"white-space: pre\" font-family=\"Lato\" font-size=\"24\" font-weight=\"bold\" letter-spacing=\"0px\"><tspan x=\"177.879\" y=\"194.288\">Vehicle Registration Certificate</tspan></text>\n",
       "<text fill=\"black\" xml:space=\"preserve\" style=\"white-space: pre\" font-family=\"Lato\" font-size=\"16\" letter-spacing=\"0px\"><tspan x=\"41\" y=\"331.192\">Vehicle Details</tspan></text>\n",
       "<text fill=\"black\" xml:space=\"preserve\" style=\"white-space: pre\" font-family=\"Lato\" font-size=\"16\" letter-spacing=\"0px\"><tspan x=\"41\" y=\"383.192\">Registration number: ECB73D2</tspan></text>\n",
       "<text fill=\"black\" xml:space=\"preserve\" style=\"white-space: pre\" font-family=\"Lato\" font-size=\"16\" letter-spacing=\"0px\"><tspan x=\"41\" y=\"403.192\">Manufacturing Year: 2022</tspan></text>\n",
       "\n",
       "<text fill=\"black\" xml:space=\"preserve\" style=\"white-space: pre\" font-family=\"Lato\" font-size=\"16\" letter-spacing=\"0px\"><tspan x=\"41\" y=\"423.192\">Vehicle Owner: Harry Brook</tspan></text>\n",
       "\n",
       "<text fill=\"#1D1D1D\" xml:space=\"preserve\" style=\"white-space: pre\" font-family=\"Lato\" font-size=\"14\" font-weight=\"bold\" letter-spacing=\"0px\"><tspan x=\"45\" y=\"538.418\">Vehicle Registration</tspan></text>\n",
       "<text fill=\"#1B2124\" xml:space=\"preserve\" style=\"white-space: pre\" font-family=\"Lato\" font-size=\"12\" letter-spacing=\"0px\"><tspan x=\"45\" y=\"589.644\">Date of Issue : 2023-04-20</tspan></text>\n",
       "<rect x=\"347\" y=\"585\" width=\"208\" height=\"208\" fill=\"url(#pattern0)\"/>\n",
       "<text fill=\"#1B2124\" xml:space=\"preserve\" style=\"white-space: pre\" font-family=\"Lato\" font-size=\"8\" letter-spacing=\"0px\"><tspan x=\"382.008\" y=\"814.096\">Scan the QR Code to verify the certificate at\n",
       "</tspan><tspan x=\"381.82\" y=\"824.096\">https://demo-education-registry.xiv.in/verify</tspan></text>\n",
       "<rect x=\"40\" y=\"40\" width=\"386\" height=\"71\" fill=\"url(#pattern1)\"/>\n",
       "</g>\n",
       "<path d=\"M-2060 -2098H720V-2100H-2060V-2098ZM721 -2097V944H723V-2097H721ZM720 945H-2060V947H720V945ZM-2061 944V-2097H-2063V944H-2061ZM-2060 945C-2060.55 945 -2061 944.552 -2061 944H-2063C-2063 945.657 -2061.66 947 -2060 947V945ZM721 944C721 944.552 720.552 945 720 945V947C721.657 947 723 945.657 723 944H721ZM720 -2098C720.552 -2098 721 -2097.55 721 -2097H723C723 -2098.66 721.657 -2100 720 -2100V-2098ZM-2060 -2100C-2061.66 -2100 -2063 -2098.66 -2063 -2097H-2061C-2061 -2097.55 -2060.55 -2098 -2060 -2098V-2100Z\" fill=\"black\" fill-opacity=\"0.1\"/>\n",
       "<defs>\n",
       "<pattern id=\"pattern0\" patternContentUnits=\"objectBoundingBox\" width=\"1\" height=\"1\">\n",
       "<use xlink:href=\"#image0_0_1\" transform=\"scale(0.00123457)\"/>\n",
       "</pattern>\n",
       "<pattern id=\"pattern1\" patternContentUnits=\"objectBoundingBox\" width=\"1\" height=\"1\">\n",
       "<use xlink:href=\"#image1_0_1\" transform=\"matrix(0.00143701 0 0 0.0078125 -0.0471078 0)\"/>\n",
       "</pattern>\n",
       "<clipPath id=\"clip0_0_1\">\n",
       "<rect width=\"595\" height=\"842\" fill=\"white\"/>\n",
       "</clipPath>\n",
       "<image id=\"image0_0_1\" width=\"810\" height=\"810\" xlink:href=\"data:image/png;base64,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\"/>\n",
       "<image id=\"image1_0_1\" width=\"729\" height=\"128\" xlink:href=\"data:image/png;base64,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\"/>\n",
       "</defs>\n",
       "</svg>"
      ],
      "text/plain": [
       "<IPython.core.display.SVG object>"
      ]
     },
     "metadata": {},
     "output_type": "display_data"
    }
   ],
   "source": [
    "#get a credential\n",
    "# credentialOsid='1-2ffb8f5c-ec51-47f3-8b26-0796a8328803'\n",
    "schemaName = \"VehicleCertificate\"\n",
    "headers = {\n",
    "    'Accept': 'image/svg+xml',\n",
    "    'Authorization': 'Bearer %s'%issuerToken,\n",
    "    \"template-key\": \"html\"\n",
    "}\n",
    "response = requests.get('%s/api/v1/%s/%s'%(baseUrl, schemaName, credentialOsid), headers=headers)\n",
    "display(SVG(response.content))"
   ]
  },
  {
   "attachments": {},
   "cell_type": "markdown",
   "id": "64454c22",
   "metadata": {},
   "source": [
    "#### Onboard Citizen 2"
   ]
  },
  {
   "cell_type": "code",
   "execution_count": 157,
   "id": "47aa5ddc",
   "metadata": {},
   "outputs": [
    {
     "name": "stdout",
     "output_type": "stream",
     "text": [
      "{\"id\":\"sunbird-rc.registry.invite\",\"ver\":\"1.0\",\"ets\":1690248776581,\"params\":{\"resmsgid\":\"\",\"msgid\":\"ff67f9a2-a355-4993-8de8-13642a69aab5\",\"err\":\"\",\"status\":\"SUCCESSFUL\",\"errmsg\":\"\"},\"responseCode\":\"OK\",\"result\":{\"CitizenV2\":{\"osid\":\"1-e5ee312f-4a20-4c47-a8a8-6b9f72d8f4ec\"}}}\n"
     ]
    }
   ],
   "source": [
    "## Code for inviting citizen\n",
    "\n",
    "citizen2UserId = \"hbrook@gmail.com\"\n",
    "citizenRequestBody = {\n",
    "    \"name\": \"Harry Brook\",\n",
    "    \"email\": citizen2UserId,\n",
    "    \"dob\": \"2001-10-10\",\n",
    "    \"gender\": \"Male\"\n",
    "}\n",
    "\n",
    "headers = {\n",
    "  'Content-Type': 'application/json'\n",
    "}\n",
    "\n",
    "response = requests.request(\"POST\", apibaseUrl + \"CitizenV2/invite\", headers=headers, json=citizenRequestBody)\n",
    "\n",
    "print(response.text)\n",
    "assert response.status_code == 200"
   ]
  },
  {
   "attachments": {},
   "cell_type": "markdown",
   "id": "f3957741",
   "metadata": {},
   "source": [
    "#### Get Citizen 2 Token"
   ]
  },
  {
   "cell_type": "code",
   "execution_count": 158,
   "id": "7e594972",
   "metadata": {},
   "outputs": [
    {
     "name": "stdout",
     "output_type": "stream",
     "text": [
      "200\n",
      "eyJhbGciOiJSUzI1NiIsInR5cCIgOiAiSldUIiwia2lkIiA6ICJVQkNsY1Z2NFM0bWw4bkh4WDlnb2tpWUFpck1fSWxEb0c2UDNFaEN6dkZZIn0.eyJleHAiOjE2OTAyNDkzNzksImlhdCI6MTY5MDI0ODc3OSwianRpIjoiMDI4M2FkOGMtOWVhNy00MTMzLWFkMzAtNmU4NGUxNjZmNTJjIiwiaXNzIjoiaHR0cDovL2RlbW8tYWRtaW4tcG9ydGFsLnN1bmJpcmRyYy5vY2kvYXV0aC9yZWFsbXMvc3VuYmlyZC1yYyIsImF1ZCI6ImFjY291bnQiLCJzdWIiOiJhNDFlODMyMi05NzM1LTRjZDctOWQzYS1mYjE1NDM3MGUwMjIiLCJ0eXAiOiJCZWFyZXIiLCJhenAiOiJyZWdpc3RyeS1mcm9udGVuZCIsInNlc3Npb25fc3RhdGUiOiI5ZWJjM2Q1MC1jODRkLTQzODQtOGJjNC1kMGYwOTYwNzI1N2UiLCJhY3IiOiIxIiwiYWxsb3dlZC1vcmlnaW5zIjpbImh0dHBzOi8vbG9jYWxob3N0OjQyMDIiLCJodHRwOi8vbG9jYWxob3N0OjQyMDIiLCJodHRwczovL2xvY2FsaG9zdDo0MjAwIiwiaHR0cHM6Ly9uZGVhci54aXYuaW4iLCJodHRwOi8vZGVtby1hZG1pbi1wb3J0YWwuc3VuYmlyZHJjLm9jaSIsImh0dHA6Ly9sb2NhbGhvc3Q6NDIwMCIsImh0dHA6Ly8yMC4xOTguNjQuMTI4Il0sInJlYWxtX2FjY2VzcyI6eyJyb2xlcyI6WyJvZmZsaW5lX2FjY2VzcyIsInVtYV9hdXRob3JpemF0aW9uIiwiZGVmYXVsdC1yb2xlcy1uZGVhciIsIkNpdGl6ZW5WMiJdfSwicmVzb3VyY2VfYWNjZXNzIjp7ImFjY291bnQiOnsicm9sZXMiOlsibWFuYWdlLWFjY291bnQiLCJtYW5hZ2UtYWNjb3VudC1saW5rcyIsInZpZXctcHJvZmlsZSJdfX0sInNjb3BlIjoicHJvZmlsZSBlbWFpbCIsImVtYWlsX3ZlcmlmaWVkIjpmYWxzZSwicHJlZmVycmVkX3VzZXJuYW1lIjoiaGJyb29rQGdtYWlsLmNvbSIsImVudGl0eSI6WyJDaXRpemVuVjIiXSwiZW1haWwiOiJoYnJvb2tAZ21haWwuY29tIn0.pNZjK5jf-2Us42ggvEEzsA3fGHprwgA-HmDdWnooaHAq8Hm1aR_Y1k8RAiY7tr6IuJKGYKmfMWFMX3_pVQqxKuLsZ-gqdOwGTNXRKh7d7X_CMGibHau_fATsLnESjjdKabL8dif2p_uGbl20yf_vlpk-GRcyB3Y0zZwRGve9YZvdToMT_YKouXSy4NmzyElJsaqTn5BcDuvINUsytCKGPx0ydzQkEH2ndwEf0BEioTBxp0HFrg0F7axl0yXQPIP89lCGVaynqcfnJfR4SYzDZU5ZZqvHn6bvozqRt2KuthIOx0ct4glIT8DONkEX-9kBrW53CJbIjakF00rfkIH0Eg\n"
     ]
    }
   ],
   "source": [
    "citizen2token = getToken(citizen2UserId)\n",
    "print(citizen2token)"
   ]
  },
  {
   "attachments": {},
   "cell_type": "markdown",
   "id": "14378a18",
   "metadata": {},
   "source": [
    "#### Get Citizen 2 Details"
   ]
  },
  {
   "cell_type": "code",
   "execution_count": 159,
   "id": "e5a6f6fb",
   "metadata": {},
   "outputs": [
    {
     "name": "stdout",
     "output_type": "stream",
     "text": [
      "[{\"osUpdatedAt\":\"2023-07-25T01:32:56.740Z\",\"gender\":\"Male\",\"osCreatedAt\":\"2023-07-25T01:32:56.740Z\",\"osUpdatedBy\":\"\",\"dob\":\"2001-10-10\",\"name\":\"Harry Brook\",\"osCreatedBy\":\"\",\"osid\":\"1-e5ee312f-4a20-4c47-a8a8-6b9f72d8f4ec\",\"osOwner\":[\"a41e8322-9735-4cd7-9d3a-fb154370e022\"],\"email\":\"hbrook@gmail.com\"}]\n",
      "1-e5ee312f-4a20-4c47-a8a8-6b9f72d8f4ec\n",
      "Harry Brook\n",
      "hbrook@gmail.com\n"
     ]
    }
   ],
   "source": [
    "headers = {\n",
    "  'Content-Type': 'application/json',\n",
    "    'Authorization': 'bearer %s'%citizen2token\n",
    "}\n",
    "\n",
    "response = requests.request(\"GET\", apibaseUrl + \"CitizenV2\", headers=headers)\n",
    "\n",
    "print(response.text)\n",
    "citizen2Osid = response.json()[0][\"osid\"]\n",
    "citizen2Name = response.json()[0][\"name\"]\n",
    "citizen2Email = response.json()[0][\"email\"]\n",
    "print(citizen2Osid)\n",
    "print(citizen2Name)\n",
    "print(citizen2Email)\n",
    "assert response.status_code == 200"
   ]
  },
  {
   "attachments": {},
   "cell_type": "markdown",
   "id": "89ee0123",
   "metadata": {},
   "source": [
    "#### Official Transfers vehicle to citizen2"
   ]
  },
  {
   "cell_type": "code",
   "execution_count": 160,
   "id": "04f5ef4e",
   "metadata": {},
   "outputs": [
    {
     "name": "stdout",
     "output_type": "stream",
     "text": [
      "{\"id\":\"sunbird-rc.registry.update\",\"ver\":\"1.0\",\"ets\":1690248794487,\"params\":{\"resmsgid\":\"\",\"msgid\":\"cbc23e0e-1c85-49c4-9565-ad7994d34df3\",\"err\":\"\",\"status\":\"SUCCESSFUL\",\"errmsg\":\"\"},\"responseCode\":\"OK\"}\n"
     ]
    }
   ],
   "source": [
    "headers = {\n",
    "  'Content-Type': 'application/json',\n",
    "    'Authorization': 'bearer %s'%issuerToken\n",
    "}\n",
    "\n",
    "vehicleUpdateBody = {\n",
    "    \"owner\":\n",
    "      {\n",
    "      \"citizenOSID\": citizen2Osid,\n",
    "      \"citizenName\": citizen2Name,\n",
    "      \"citizenEmail\": citizen2Email\n",
    "      }\n",
    "\n",
    "}\n",
    "\n",
    "\n",
    "response = requests.request(\"PUT\", apibaseUrl + \"VehicleV2/\" + vehicleOsid, headers=headers, json=vehicleUpdateBody)\n",
    "\n",
    "print(response.text)\n",
    "assert response.status_code == 200"
   ]
  },
  {
   "attachments": {},
   "cell_type": "markdown",
   "id": "08bcfc73",
   "metadata": {},
   "source": [
    "#### Check the owner details is now citizen2"
   ]
  },
  {
   "cell_type": "code",
   "execution_count": 162,
   "id": "0ead703c",
   "metadata": {},
   "outputs": [
    {
     "name": "stdout",
     "output_type": "stream",
     "text": [
      "[\n",
      "    {\n",
      "        \"regnumber\": \"ECB73D2\",\n",
      "        \"mnfyear\": \"2022\",\n",
      "        \"vehicletype\": \"Car\",\n",
      "        \"owner\": {\n",
      "            \"citizenOSID\": \"1-e5ee312f-4a20-4c47-a8a8-6b9f72d8f4ec\",\n",
      "            \"citizenName\": \"Harry Brook\",\n",
      "            \"citizenEmail\": \"hbrook@gmail.com\",\n",
      "            \"osCreatedAt\": \"2023-07-25T01:28:11.341Z\",\n",
      "            \"osUpdatedAt\": \"2023-07-25T01:33:14.510Z\",\n",
      "            \"osCreatedBy\": \"\",\n",
      "            \"osUpdatedBy\": \"e1e80548-94bd-4669-88be-dcd4a2c19a8f\",\n",
      "            \"osid\": \"1-98f9ca53-56f9-47af-9f9b-85128a50b995\",\n",
      "            \"@type\": \"owner\"\n",
      "        },\n",
      "        \"osCreatedAt\": \"2023-07-25T01:28:11.341Z\",\n",
      "        \"osUpdatedAt\": \"2023-07-25T01:33:14.510Z\",\n",
      "        \"osCreatedBy\": \"\",\n",
      "        \"osUpdatedBy\": \"e1e80548-94bd-4669-88be-dcd4a2c19a8f\",\n",
      "        \"osid\": \"1-810074dc-a611-4447-bdff-55c83fba3312\",\n",
      "        \"@type\": \"VehicleV2\"\n",
      "    }\n",
      "]\n",
      "1-810074dc-a611-4447-bdff-55c83fba3312\n"
     ]
    }
   ],
   "source": [
    "headers = {\n",
    "  'Content-Type': 'application/json',\n",
    "    'Authorization': 'bearer %s'%issuerToken\n",
    "}\n",
    "vehicleSearchBody = {\n",
    "    \"filters\": {\n",
    "        \"regnumber\": {\n",
    "            \"contains\": vehicleRegNumber\n",
    "        }\n",
    "    },\n",
    "    \"limit\": 5,\n",
    "    \"offset\": 0\n",
    "}\n",
    "\n",
    "response = requests.request(\"POST\", apibaseUrl + \"VehicleV2/search\", headers=headers,json=vehicleSearchBody)\n",
    "\n",
    "print(json.dumps(response.json(), indent=4))\n",
    "vehicleOsid = response.json()[0][\"osid\"]\n",
    "print(vehicleOsid)\n",
    "assert response.status_code == 200"
   ]
  },
  {
   "attachments": {},
   "cell_type": "markdown",
   "id": "534c479f",
   "metadata": {},
   "source": [
    "#### Official Updates VC for citizen2"
   ]
  },
  {
   "cell_type": "code",
   "execution_count": 163,
   "id": "314cd71f",
   "metadata": {},
   "outputs": [
    {
     "name": "stdout",
     "output_type": "stream",
     "text": [
      "{\"id\":\"sunbird-rc.registry.update\",\"ver\":\"1.0\",\"ets\":1690248864627,\"params\":{\"resmsgid\":\"\",\"msgid\":\"ab824fd9-45f7-4809-9ba6-d6746fe30bf2\",\"err\":\"\",\"status\":\"SUCCESSFUL\",\"errmsg\":\"\"},\"responseCode\":\"OK\"}\n"
     ]
    }
   ],
   "source": [
    "headers = {\n",
    "  'Content-Type': 'application/json',\n",
    "    'Authorization': 'bearer %s'%issuerToken\n",
    "}\n",
    "\n",
    "VCUpdateBody = {\n",
    "    \"name\": \"Harry Brook\",\n",
    "    \"regnumber\": \"ECB73D2\",\n",
    "    \"dateofaward\": \"2023-04-20\",\n",
    "    \"nameofScheme\": \"Vehicle Registration\",\n",
    "    \"mnfyear\": \"2022\"\n",
    "}\n",
    "\n",
    "\n",
    "response = requests.request(\"PUT\", apibaseUrl + \"VehicleCertificate/\" + credentialOsid, headers=headers, json=VCUpdateBody)\n",
    "\n",
    "print(response.text)\n",
    "assert response.status_code == 200"
   ]
  },
  {
   "attachments": {},
   "cell_type": "markdown",
   "id": "af0c77b7",
   "metadata": {},
   "source": [
    "#### Official view the new VC"
   ]
  },
  {
   "cell_type": "code",
   "execution_count": 164,
   "id": "6c896300",
   "metadata": {},
   "outputs": [
    {
     "data": {
      "image/svg+xml": [
       "<svg xmlns=\"http://www.w3.org/2000/svg\" xmlns:xlink=\"http://www.w3.org/1999/xlink\" width=\"595\" height=\"842\" viewBox=\"0 0 595 842\" fill=\"none\">\n",
       "<rect width=\"595\" height=\"842\" fill=\"#F5F5F5\"/>\n",
       "<path d=\"M-2062 -2097C-2062 -2098.1 -2061.1 -2099 -2060 -2099H720C721.104 -2099 722 -2098.1 722 -2097V944C722 945.104 721.104 946 720 946H-2060C-2061.1 946 -2062 945.104 -2062 944V-2097Z\" fill=\"#E5E5E5\"/>\n",
       "<g clip-path=\"url(#clip0_0_1)\">\n",
       "<rect x=\"1.5\" y=\"1.5\" width=\"592\" height=\"839\" fill=\"white\" stroke=\"#8D9091\" stroke-width=\"3\"/>\n",
       "<text fill=\"black\" xml:space=\"preserve\" style=\"white-space: pre\" font-family=\"Lato\" font-size=\"24\" font-weight=\"bold\" letter-spacing=\"0px\"><tspan x=\"177.879\" y=\"194.288\">Vehicle Registration Certificate</tspan></text>\n",
       "<text fill=\"black\" xml:space=\"preserve\" style=\"white-space: pre\" font-family=\"Lato\" font-size=\"16\" letter-spacing=\"0px\"><tspan x=\"41\" y=\"331.192\">Vehicle Details</tspan></text>\n",
       "<text fill=\"black\" xml:space=\"preserve\" style=\"white-space: pre\" font-family=\"Lato\" font-size=\"16\" letter-spacing=\"0px\"><tspan x=\"41\" y=\"383.192\">Registration number: ECB73D2</tspan></text>\n",
       "<text fill=\"black\" xml:space=\"preserve\" style=\"white-space: pre\" font-family=\"Lato\" font-size=\"16\" letter-spacing=\"0px\"><tspan x=\"41\" y=\"403.192\">Manufacturing Year: 2022</tspan></text>\n",
       "\n",
       "<text fill=\"black\" xml:space=\"preserve\" style=\"white-space: pre\" font-family=\"Lato\" font-size=\"16\" letter-spacing=\"0px\"><tspan x=\"41\" y=\"423.192\">Vehicle Owner: Harry Brook</tspan></text>\n",
       "\n",
       "<text fill=\"#1D1D1D\" xml:space=\"preserve\" style=\"white-space: pre\" font-family=\"Lato\" font-size=\"14\" font-weight=\"bold\" letter-spacing=\"0px\"><tspan x=\"45\" y=\"538.418\">Vehicle Registration</tspan></text>\n",
       "<text fill=\"#1B2124\" xml:space=\"preserve\" style=\"white-space: pre\" font-family=\"Lato\" font-size=\"12\" letter-spacing=\"0px\"><tspan x=\"45\" y=\"589.644\">Date of Issue : 2023-04-20</tspan></text>\n",
       "<rect x=\"347\" y=\"585\" width=\"208\" height=\"208\" fill=\"url(#pattern0)\"/>\n",
       "<text fill=\"#1B2124\" xml:space=\"preserve\" style=\"white-space: pre\" font-family=\"Lato\" font-size=\"8\" letter-spacing=\"0px\"><tspan x=\"382.008\" y=\"814.096\">Scan the QR Code to verify the certificate at\n",
       "</tspan><tspan x=\"381.82\" y=\"824.096\">https://demo-education-registry.xiv.in/verify</tspan></text>\n",
       "<rect x=\"40\" y=\"40\" width=\"386\" height=\"71\" fill=\"url(#pattern1)\"/>\n",
       "</g>\n",
       "<path d=\"M-2060 -2098H720V-2100H-2060V-2098ZM721 -2097V944H723V-2097H721ZM720 945H-2060V947H720V945ZM-2061 944V-2097H-2063V944H-2061ZM-2060 945C-2060.55 945 -2061 944.552 -2061 944H-2063C-2063 945.657 -2061.66 947 -2060 947V945ZM721 944C721 944.552 720.552 945 720 945V947C721.657 947 723 945.657 723 944H721ZM720 -2098C720.552 -2098 721 -2097.55 721 -2097H723C723 -2098.66 721.657 -2100 720 -2100V-2098ZM-2060 -2100C-2061.66 -2100 -2063 -2098.66 -2063 -2097H-2061C-2061 -2097.55 -2060.55 -2098 -2060 -2098V-2100Z\" fill=\"black\" fill-opacity=\"0.1\"/>\n",
       "<defs>\n",
       "<pattern id=\"pattern0\" patternContentUnits=\"objectBoundingBox\" width=\"1\" height=\"1\">\n",
       "<use xlink:href=\"#image0_0_1\" transform=\"scale(0.00123457)\"/>\n",
       "</pattern>\n",
       "<pattern id=\"pattern1\" patternContentUnits=\"objectBoundingBox\" width=\"1\" height=\"1\">\n",
       "<use xlink:href=\"#image1_0_1\" transform=\"matrix(0.00143701 0 0 0.0078125 -0.0471078 0)\"/>\n",
       "</pattern>\n",
       "<clipPath id=\"clip0_0_1\">\n",
       "<rect width=\"595\" height=\"842\" fill=\"white\"/>\n",
       "</clipPath>\n",
       "<image id=\"image0_0_1\" width=\"810\" height=\"810\" xlink:href=\"data:image/png;base64,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\"/>\n",
       "<image id=\"image1_0_1\" width=\"729\" height=\"128\" xlink:href=\"data:image/png;base64,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\"/>\n",
       "</defs>\n",
       "</svg>"
      ],
      "text/plain": [
       "<IPython.core.display.SVG object>"
      ]
     },
     "metadata": {},
     "output_type": "display_data"
    }
   ],
   "source": [
    "schemaName = \"VehicleCertificate\"\n",
    "headers = {\n",
    "    'Accept': 'image/svg+xml',\n",
    "    'Authorization': 'Bearer %s'%issuerToken,\n",
    "    \"template-key\": \"html\"\n",
    "}\n",
    "response = requests.get('%s/api/v1/%s/%s'%(baseUrl, schemaName, credentialOsid), headers=headers)\n",
    "display(SVG(response.content))"
   ]
  },
  {
   "attachments": {},
   "cell_type": "markdown",
   "id": "67be735c",
   "metadata": {},
   "source": [
    "### Optional attestation workflow"
   ]
  },
  {
   "attachments": {},
   "cell_type": "markdown",
   "id": "faa90918",
   "metadata": {},
   "source": [
    "##### Citizen 1 adds license details"
   ]
  },
  {
   "cell_type": "code",
   "execution_count": 166,
   "id": "d3d6e2c5",
   "metadata": {},
   "outputs": [
    {
     "name": "stdout",
     "output_type": "stream",
     "text": [
      "<Response [200]>\n",
      "{'id': 'sunbird-rc.registry.update', 'ver': '1.0', 'ets': 1690248960377, 'params': {'resmsgid': '', 'msgid': 'ecb4f1d1-a6a7-4ed5-8c8c-8ddb7d2bbcab', 'err': '', 'status': 'SUCCESSFUL', 'errmsg': ''}, 'responseCode': 'OK'}\n",
      "1-24672fdd-4a47-4dd3-92dd-42618df5adf8\n"
     ]
    }
   ],
   "source": [
    "\n",
    "headers = {\n",
    "    'content-type': 'application/json',\n",
    "    'authorization': 'bearer %s'%citizen1token,\n",
    "}\n",
    "\n",
    "data = \"\"\"{\n",
    "\"drivinglicense\": [\n",
    "  {\n",
    "    \"vehicletype\": \"Car\",\n",
    "    \"licnumber\": \"abcde1234\",\n",
    "    \"issueddate\":  \"2000-10-10\",\n",
    "    \"validupto\": \"2010-10-10\",\n",
    "    \"state\": \"Karnataka\"\n",
    "  }\n",
    "]\n",
    "}\"\"\"\n",
    "# print(data)\n",
    "response = requests.put('%sCitizenV2/%s'%(apibaseUrl, citizen1Osid), headers=headers, data=data)\n",
    "print(response)\n",
    "print(response.json())\n",
    "assert response.status_code == 200\n",
    "\n",
    "\n",
    "headers = {\n",
    "  'Content-Type': 'application/json',\n",
    "    'Authorization': 'bearer %s'%citizen1token,\n",
    "}\n",
    "\n",
    "response = requests.request(\"GET\", apibaseUrl + \"CitizenV2\", headers=headers)\n",
    "\n",
    "# print(response.text)\n",
    "drivinglicenseOsid = response.json()[0][\"drivinglicense\"][0][\"osid\"]\n",
    "print(drivinglicenseOsid)\n",
    "assert response.status_code == 200\n"
   ]
  },
  {
   "attachments": {},
   "cell_type": "markdown",
   "id": "7027c000",
   "metadata": {},
   "source": [
    "#### Get Citizen1 details after adding license"
   ]
  },
  {
   "cell_type": "code",
   "execution_count": 167,
   "id": "82524cb6",
   "metadata": {},
   "outputs": [
    {
     "name": "stdout",
     "output_type": "stream",
     "text": [
      "[\n",
      "    {\n",
      "        \"osUpdatedAt\": \"2023-07-25T01:36:00.646Z\",\n",
      "        \"gender\": \"Male\",\n",
      "        \"osCreatedAt\": \"2023-07-25T01:28:00.362Z\",\n",
      "        \"osUpdatedBy\": \"2c4f0e55-3a31-4ade-9b51-5a3fe1c56886\",\n",
      "        \"dob\": \"2000-10-10\",\n",
      "        \"drivinglicense\": [\n",
      "            {\n",
      "                \"vehicletype\": \"Car\",\n",
      "                \"validupto\": \"2010-10-10\",\n",
      "                \"osUpdatedAt\": \"2023-07-25T01:36:00.646Z\",\n",
      "                \"licnumber\": \"abcde1234\",\n",
      "                \"osUpdatedBy\": \"2c4f0e55-3a31-4ade-9b51-5a3fe1c56886\",\n",
      "                \"osid\": \"1-24672fdd-4a47-4dd3-92dd-42618df5adf8\",\n",
      "                \"state\": \"Karnataka\",\n",
      "                \"issueddate\": \"2000-10-10\"\n",
      "            }\n",
      "        ],\n",
      "        \"osCreatedBy\": \"\",\n",
      "        \"name\": \"Zak Crawley\",\n",
      "        \"osid\": \"1-e5282f0e-57ae-47f8-ab3a-e73c5cb1b228\",\n",
      "        \"osOwner\": [\n",
      "            \"2c4f0e55-3a31-4ade-9b51-5a3fe1c56886\"\n",
      "        ],\n",
      "        \"email\": \"zcrawley@gmail.com\"\n",
      "    }\n",
      "]\n"
     ]
    }
   ],
   "source": [
    "headers = {\n",
    "  'Content-Type': 'application/json',\n",
    "    'Authorization': 'bearer %s'%citizen1token\n",
    "}\n",
    "\n",
    "response = requests.request(\"GET\", apibaseUrl + \"CitizenV2\", headers=headers)\n",
    "print(json.dumps(response.json(), indent=4))\n",
    "assert response.status_code == 200"
   ]
  },
  {
   "attachments": {},
   "cell_type": "markdown",
   "id": "67423f5d",
   "metadata": {},
   "source": [
    "#### Citizen 1 Sends License attestation request"
   ]
  },
  {
   "cell_type": "code",
   "execution_count": 168,
   "id": "4669ceca",
   "metadata": {},
   "outputs": [
    {
     "name": "stdout",
     "output_type": "stream",
     "text": [
      "200\n",
      "{\n",
      "    \"id\": \"sunbird-rc.registry.send\",\n",
      "    \"ver\": \"1.0\",\n",
      "    \"ets\": 1690248970776,\n",
      "    \"params\": {\n",
      "        \"resmsgid\": \"\",\n",
      "        \"msgid\": \"2fac2a81-7441-4dbe-b03a-543d2d3d0ceb\",\n",
      "        \"err\": \"\",\n",
      "        \"status\": \"SUCCESSFUL\",\n",
      "        \"errmsg\": \"\"\n",
      "    },\n",
      "    \"responseCode\": \"OK\",\n",
      "    \"result\": {\n",
      "        \"attestationOSID\": \"1-cac8fef4-d48a-4d44-bf76-149d1c1ff94e\"\n",
      "    }\n",
      "}\n"
     ]
    }
   ],
   "source": [
    "# raise attestation request\n",
    "headers = {\n",
    "    'content-type': 'application/json',\n",
    "    'authorization': 'bearer %s'%citizen1token,\n",
    "}\n",
    "\n",
    "params = (\n",
    "    ('send', 'true'),\n",
    ")\n",
    "\n",
    "data = {\n",
    "    \"entityName\":\"CitizenV2\",\n",
    "    \"entityId\":\"%s\"%citizen1Osid,\n",
    "    \"name\":\"CitizenAffiliation\",\n",
    "    \"propertiesOSID\": {\n",
    "        \"drivinglicense\": [drivinglicenseOsid]\n",
    "    }\n",
    "}\n",
    "response = requests.put(apibaseUrl+'send', headers=headers, params=params, json=data)\n",
    "print(response.status_code)\n",
    "assert response.status_code == 200\n",
    "print(json.dumps(response.json(), indent=4))\n",
    "citizen1attestationosid=response.json()[\"result\"][\"attestationOSID\"]\n",
    "assert response.json()[\"params\"][\"status\"] == \"SUCCESSFUL\""
   ]
  },
  {
   "attachments": {},
   "cell_type": "markdown",
   "id": "11cc2d02",
   "metadata": {},
   "source": [
    "#### Official gets all claims"
   ]
  },
  {
   "cell_type": "code",
   "execution_count": 169,
   "id": "37b84426",
   "metadata": {},
   "outputs": [
    {
     "name": "stdout",
     "output_type": "stream",
     "text": [
      "200\n",
      "{\n",
      "    \"totalPages\": 1,\n",
      "    \"content\": [\n",
      "        {\n",
      "            \"id\": \"50a6f9a4-a3e2-4419-bef5-07282b02a51a\",\n",
      "            \"entity\": \"CitizenV2\",\n",
      "            \"entityId\": \"1-e5282f0e-57ae-47f8-ab3a-e73c5cb1b228\",\n",
      "            \"propertyURI\": \"\",\n",
      "            \"createdAt\": \"2023-07-25T01:36:11.195+00:00\",\n",
      "            \"updatedAt\": \"2023-07-25T01:36:11.195+00:00\",\n",
      "            \"attestedOn\": null,\n",
      "            \"status\": \"OPEN\",\n",
      "            \"conditions\": \"(ATTESTOR#$.[*]#.contains('RTO Karnataka'))\",\n",
      "            \"attestorEntity\": \"Official\",\n",
      "            \"requestorName\": \"zcrawley@gmail.com\",\n",
      "            \"propertyData\": \"{\\\"drivinglicense\\\":[{\\\"vehicletype\\\":\\\"Car\\\",\\\"validupto\\\":\\\"2010-10-10\\\",\\\"osUpdatedAt\\\":\\\"2023-07-25T01:36:00.646Z\\\",\\\"licnumber\\\":\\\"abcde1234\\\",\\\"osUpdatedBy\\\":\\\"2c4f0e55-3a31-4ade-9b51-5a3fe1c56886\\\",\\\"osid\\\":\\\"1-24672fdd-4a47-4dd3-92dd-42618df5adf8\\\",\\\"state\\\":\\\"Karnataka\\\",\\\"issueddate\\\":\\\"2000-10-10\\\"}],\\\"name\\\":\\\"Zak Crawley\\\"}\",\n",
      "            \"attestationId\": \"1-cac8fef4-d48a-4d44-bf76-149d1c1ff94e\",\n",
      "            \"attestationName\": \"CitizenAffiliation\",\n",
      "            \"attestorUserId\": null,\n",
      "            \"closed\": false\n",
      "        }\n",
      "    ],\n",
      "    \"totalElements\": 1\n",
      "}\n"
     ]
    }
   ],
   "source": [
    "# get claims for official\n",
    "\n",
    "officialUserId = \"rto_official_1\"\n",
    "officialToken = getToken(officialUserId)\n",
    "headers = {\n",
    "  'Content-Type': 'application/json',\n",
    "    'Authorization': 'bearer %s'%officialToken,\n",
    "}\n",
    "\n",
    "response = requests.request(\"GET\", apibaseUrl + \"Official/claims\", headers=headers)\n",
    "assert response.status_code == 200\n",
    "\n",
    "print(json.dumps(response.json(), indent=4))\n"
   ]
  },
  {
   "attachments": {},
   "cell_type": "markdown",
   "id": "a7a1fe24",
   "metadata": {},
   "source": [
    "#### Official Grants Citizen1 Claim"
   ]
  },
  {
   "cell_type": "code",
   "execution_count": 170,
   "id": "8cddf9bf",
   "metadata": {},
   "outputs": [
    {
     "name": "stdout",
     "output_type": "stream",
     "text": [
      "50a6f9a4-a3e2-4419-bef5-07282b02a51a\n",
      "<Response [200]>\n",
      "{'resmsgid': '', 'msgid': '4e31449e-36f8-43ec-a45c-0f5de1a3e5c3', 'err': '', 'status': 'SUCCESSFUL', 'errmsg': ''}\n"
     ]
    }
   ],
   "source": [
    "\n",
    "# Attesting the claim as GRANT\n",
    "data = {\n",
    "    \"action\":\"GRANT_CLAIM\",\n",
    "}\n",
    "attestingClaimId = None\n",
    "for claim in response.json()[\"content\"]:\n",
    "    if claim[\"status\"] == \"OPEN\" and claim[\"attestationId\"] == citizen1attestationosid:\n",
    "        attestingClaimId = claim[\"id\"]\n",
    "        print(claim[\"id\"])\n",
    "        attestResp = requests.request(\"POST\", \"%sOfficial/claims/%s/attest\" %(apibaseUrl, claim[\"id\"]), headers=headers, json=data)\n",
    "        assert response.status_code == 200\n",
    "        print(attestResp)\n",
    "        print(attestResp.json())\n",
    "        break\n",
    "assert attestingClaimId != None\n",
    "\n"
   ]
  },
  {
   "attachments": {},
   "cell_type": "markdown",
   "id": "095bfb1a",
   "metadata": {},
   "source": [
    "#### Citizen 1 get attestation status"
   ]
  },
  {
   "cell_type": "code",
   "execution_count": 171,
   "id": "609919ad",
   "metadata": {},
   "outputs": [
    {
     "name": "stdout",
     "output_type": "stream",
     "text": [
      "[\n",
      "    {\n",
      "        \"osUpdatedAt\": \"2023-07-25T01:36:17.685Z\",\n",
      "        \"gender\": \"Male\",\n",
      "        \"osUpdatedBy\": \"\",\n",
      "        \"drivinglicense\": [\n",
      "            {\n",
      "                \"vehicletype\": \"Car\",\n",
      "                \"validupto\": \"2010-10-10\",\n",
      "                \"osUpdatedAt\": \"2023-07-25T01:36:17.685Z\",\n",
      "                \"licnumber\": \"abcde1234\",\n",
      "                \"osUpdatedBy\": \"\",\n",
      "                \"osid\": \"1-24672fdd-4a47-4dd3-92dd-42618df5adf8\",\n",
      "                \"state\": \"Karnataka\",\n",
      "                \"issueddate\": \"2000-10-10\"\n",
      "            }\n",
      "        ],\n",
      "        \"osid\": \"1-e5282f0e-57ae-47f8-ab3a-e73c5cb1b228\",\n",
      "        \"osOwner\": [\n",
      "            \"2c4f0e55-3a31-4ade-9b51-5a3fe1c56886\"\n",
      "        ],\n",
      "        \"osCreatedAt\": \"2023-07-25T01:28:00.362Z\",\n",
      "        \"CitizenAffiliation\": [\n",
      "            {\n",
      "                \"osUpdatedAt\": \"2023-07-25T01:36:17.685Z\",\n",
      "                \"osUpdatedBy\": \"\",\n",
      "                \"_osState\": \"PUBLISHED\",\n",
      "                \"entityId\": \"1-e5282f0e-57ae-47f8-ab3a-e73c5cb1b228\",\n",
      "                \"emailId\": \"zcrawley@gmail.com\",\n",
      "                \"osid\": \"1-cac8fef4-d48a-4d44-bf76-149d1c1ff94e\",\n",
      "                \"userId\": \"2c4f0e55-3a31-4ade-9b51-5a3fe1c56886\",\n",
      "                \"propertiesOSID\": {\n",
      "                    \"osid\": \"1-6d32ecf4-8a76-4130-9fa9-abd45f059745\",\n",
      "                    \"osUpdatedAt\": \"2023-07-25T01:36:10.816Z\",\n",
      "                    \"osUpdatedBy\": \"2c4f0e55-3a31-4ade-9b51-5a3fe1c56886\",\n",
      "                    \"drivinglicense\": [\n",
      "                        \"1-24672fdd-4a47-4dd3-92dd-42618df5adf8\"\n",
      "                    ]\n",
      "                },\n",
      "                \"propertyData\": \"{\\\"drivinglicense\\\":[{\\\"vehicletype\\\":\\\"Car\\\",\\\"validupto\\\":\\\"2010-10-10\\\",\\\"osUpdatedAt\\\":\\\"2023-07-25T01:36:00.646Z\\\",\\\"licnumber\\\":\\\"abcde1234\\\",\\\"osUpdatedBy\\\":\\\"2c4f0e55-3a31-4ade-9b51-5a3fe1c56886\\\",\\\"osid\\\":\\\"1-24672fdd-4a47-4dd3-92dd-42618df5adf8\\\",\\\"state\\\":\\\"Karnataka\\\",\\\"issueddate\\\":\\\"2000-10-10\\\"}],\\\"name\\\":\\\"Zak Crawley\\\"}\",\n",
      "                \"entityName\": \"CitizenV2\",\n",
      "                \"name\": \"CitizenAffiliation\",\n",
      "                \"_osAttestedData\": \"{\\\"drivinglicense\\\":[{\\\"vehicletype\\\":\\\"Car\\\",\\\"validupto\\\":\\\"2010-10-10\\\",\\\"osUpdatedAt\\\":\\\"2023-07-25T01:36:00.646Z\\\",\\\"licnumber\\\":\\\"abcde1234\\\",\\\"osUpdatedBy\\\":\\\"2c4f0e55-3a31-4ade-9b51-5a3fe1c56886\\\",\\\"osid\\\":\\\"1-24672fdd-4a47-4dd3-92dd-42618df5adf8\\\",\\\"state\\\":\\\"Karnataka\\\",\\\"issueddate\\\":\\\"2000-10-10\\\"}],\\\"name\\\":\\\"Zak Crawley\\\"}\",\n",
      "                \"_osClaimId\": \"50a6f9a4-a3e2-4419-bef5-07282b02a51a\"\n",
      "            }\n",
      "        ],\n",
      "        \"dob\": \"2000-10-10\",\n",
      "        \"name\": \"Zak Crawley\",\n",
      "        \"osCreatedBy\": \"\",\n",
      "        \"email\": \"zcrawley@gmail.com\"\n",
      "    }\n",
      "]\n"
     ]
    }
   ],
   "source": [
    "import time\n",
    "time.sleep(5)\n",
    "# verify attestation status\n",
    "headers = {\n",
    "  'Content-Type': 'application/json',\n",
    "    'Authorization': 'bearer %s'%citizen1token,\n",
    "}\n",
    "\n",
    "response = requests.request(\"GET\", apibaseUrl + \"CitizenV2\", headers=headers)\n",
    "\n",
    "print(json.dumps(response.json(), indent=4))\n",
    "for affiliation in response.json()[0][\"CitizenAffiliation\"]:\n",
    "        if affiliation[\"_osClaimId\"] == attestingClaimId:\n",
    "            assert affiliation[\"_osState\"] == \"PUBLISHED\""
   ]
  }
 ],
 "metadata": {
  "kernelspec": {
   "display_name": "Python 3 (ipykernel)",
   "language": "python",
   "name": "python3"
  },
  "language_info": {
   "codemirror_mode": {
    "name": "ipython",
    "version": 3
   },
   "file_extension": ".py",
   "mimetype": "text/x-python",
   "name": "python",
   "nbconvert_exporter": "python",
   "pygments_lexer": "ipython3",
   "version": "3.10.12"
  }
 },
 "nbformat": 4,
 "nbformat_minor": 5
}
